{
 "cells": [
  {
   "cell_type": "markdown",
   "id": "84d60a99",
   "metadata": {},
   "source": [
    "# `pandas` playbook: basics"
   ]
  },
  {
   "cell_type": "markdown",
   "id": "75c70b49",
   "metadata": {},
   "source": [
    "Mal Minhas, January 2018, updated Dec 2021"
   ]
  },
  {
   "cell_type": "markdown",
   "id": "fb4e868b",
   "metadata": {},
   "source": [
    "Crash run through core `pandas` concepts in one handy notebook."
   ]
  },
  {
   "cell_type": "markdown",
   "id": "a37242f5",
   "metadata": {},
   "source": [
    "## 1. `pandas` objects"
   ]
  },
  {
   "cell_type": "markdown",
   "id": "c9e50262",
   "metadata": {},
   "source": [
    "Taken from lesson [here](https://www.oreilly.com/learning/introducing-pandas-objects).  `pandas` objects can be thought of as enhanced versions of `numpy` structured arrays in which the rows and columns are identified with labels rather than simple integer indices.  There are three fundamental `pandas` objects: the **Series**, **DataFrame**, and **Index**."
   ]
  },
  {
   "cell_type": "code",
   "execution_count": 1,
   "id": "fcaa111d",
   "metadata": {},
   "outputs": [
    {
     "data": {
      "text/plain": [
       "'2.2.0'"
      ]
     },
     "execution_count": 1,
     "metadata": {},
     "output_type": "execute_result"
    }
   ],
   "source": [
    "import pandas as pd\n",
    "import numpy as np\n",
    "pd.__version__"
   ]
  },
  {
   "cell_type": "markdown",
   "id": "e92d2c90",
   "metadata": {},
   "source": [
    "#### 1.1 Series"
   ]
  },
  {
   "cell_type": "markdown",
   "id": "a54d66fb",
   "metadata": {},
   "source": [
    "The essential difference is the presence of the index: while the Numpy Array has an _implicitly_ defined integer index used to access the values, the Pandas Series has an _explicitly_ defined index associated with the values.  For example, the index need not be an integer, but can consist of values of any desired type. For example, if we wish, we can use strings as an index:"
   ]
  },
  {
   "cell_type": "code",
   "execution_count": 2,
   "id": "3684b181",
   "metadata": {},
   "outputs": [
    {
     "data": {
      "text/plain": [
       "0    0.25\n",
       "1    0.50\n",
       "2    0.75\n",
       "3    1.00\n",
       "dtype: float64"
      ]
     },
     "execution_count": 2,
     "metadata": {},
     "output_type": "execute_result"
    }
   ],
   "source": [
    "series = pd.Series([0.25, 0.5, 0.75, 1.0])\n",
    "series"
   ]
  },
  {
   "cell_type": "code",
   "execution_count": 3,
   "id": "14bd2409",
   "metadata": {},
   "outputs": [
    {
     "data": {
      "text/plain": [
       "a    0.25\n",
       "b    0.50\n",
       "c    0.75\n",
       "d    1.00\n",
       "dtype: float64"
      ]
     },
     "execution_count": 3,
     "metadata": {},
     "output_type": "execute_result"
    }
   ],
   "source": [
    "series = pd.Series([0.25, 0.5, 0.75, 1.0], index=['a', 'b', 'c', 'd'])\n",
    "series"
   ]
  },
  {
   "cell_type": "code",
   "execution_count": 4,
   "id": "f517ba55",
   "metadata": {},
   "outputs": [
    {
     "data": {
      "text/plain": [
       "[0.25, 0.5, 0.75, 1.0]"
      ]
     },
     "execution_count": 4,
     "metadata": {},
     "output_type": "execute_result"
    }
   ],
   "source": [
    "series.tolist()"
   ]
  },
  {
   "cell_type": "markdown",
   "id": "4b88942d",
   "metadata": {},
   "source": [
    "In this way, you can think of a Pandas Series a bit like a specialization of a Python dictionary. \n",
    "The series-as-dict analogy can be made even more clear by constructing a Series object directly from a Python dictionary:"
   ]
  },
  {
   "cell_type": "code",
   "execution_count": 5,
   "id": "262e1a7d",
   "metadata": {},
   "outputs": [
    {
     "data": {
      "text/plain": [
       "California    38332521\n",
       "Texas         26448193\n",
       "New York      19651127\n",
       "Florida       19552860\n",
       "Illinois      12882135\n",
       "dtype: int64"
      ]
     },
     "execution_count": 5,
     "metadata": {},
     "output_type": "execute_result"
    }
   ],
   "source": [
    "population_dict = {'California': 38332521,'Texas': 26448193,'New York': 19651127,\n",
    "                   'Florida': 19552860,'Illinois': 12882135}\n",
    "population_series = pd.Series(population_dict)\n",
    "population_series"
   ]
  },
  {
   "cell_type": "code",
   "execution_count": 6,
   "id": "c5e6e699",
   "metadata": {},
   "outputs": [
    {
     "data": {
      "text/plain": [
       "[38332521, 26448193, 19651127, 19552860, 12882135]"
      ]
     },
     "execution_count": 6,
     "metadata": {},
     "output_type": "execute_result"
    }
   ],
   "source": [
    "population_series.tolist()"
   ]
  },
  {
   "cell_type": "markdown",
   "id": "d8f99a0f",
   "metadata": {},
   "source": [
    "#### 1.2 DataFrame"
   ]
  },
  {
   "cell_type": "markdown",
   "id": "ef7d3100",
   "metadata": {},
   "source": [
    "A DataFrame is an analog of a two-dimensional array with both flexible row indices and flexible column names. Just as you might think of a two-dimensional array as an ordered sequence of aligned one-dimensional columns, you can think of a DataFrame as a sequence of aligned Series objects. Here, by “aligned” we mean that they share the same index.  Let's demonstrate this by creating an `area` Series to go with the `population` series above:"
   ]
  },
  {
   "cell_type": "code",
   "execution_count": 7,
   "id": "8277699a",
   "metadata": {},
   "outputs": [
    {
     "data": {
      "text/plain": [
       "California    423967\n",
       "Texas         695662\n",
       "New York      141297\n",
       "Florida       170312\n",
       "Illinois      149995\n",
       "dtype: int64"
      ]
     },
     "execution_count": 7,
     "metadata": {},
     "output_type": "execute_result"
    }
   ],
   "source": [
    "area_dict = {'California': 423967, 'Texas': 695662, 'New York': 141297, 'Florida': 170312, 'Illinois': 149995}\n",
    "area_series = pd.Series(area_dict)\n",
    "area_series"
   ]
  },
  {
   "cell_type": "code",
   "execution_count": 8,
   "id": "9e28545b",
   "metadata": {},
   "outputs": [
    {
     "name": "stdout",
     "output_type": "stream",
     "text": [
      "type of population_series='<class 'pandas.core.series.Series'>', type of area_series='<class 'pandas.core.series.Series'>', type of df='<class 'pandas.core.frame.DataFrame'>'\n"
     ]
    },
    {
     "data": {
      "text/html": [
       "<div>\n",
       "<style scoped>\n",
       "    .dataframe tbody tr th:only-of-type {\n",
       "        vertical-align: middle;\n",
       "    }\n",
       "\n",
       "    .dataframe tbody tr th {\n",
       "        vertical-align: top;\n",
       "    }\n",
       "\n",
       "    .dataframe thead th {\n",
       "        text-align: right;\n",
       "    }\n",
       "</style>\n",
       "<table border=\"1\" class=\"dataframe\">\n",
       "  <thead>\n",
       "    <tr style=\"text-align: right;\">\n",
       "      <th></th>\n",
       "      <th>population</th>\n",
       "      <th>area</th>\n",
       "    </tr>\n",
       "  </thead>\n",
       "  <tbody>\n",
       "    <tr>\n",
       "      <th>California</th>\n",
       "      <td>38332521</td>\n",
       "      <td>423967</td>\n",
       "    </tr>\n",
       "    <tr>\n",
       "      <th>Texas</th>\n",
       "      <td>26448193</td>\n",
       "      <td>695662</td>\n",
       "    </tr>\n",
       "    <tr>\n",
       "      <th>New York</th>\n",
       "      <td>19651127</td>\n",
       "      <td>141297</td>\n",
       "    </tr>\n",
       "    <tr>\n",
       "      <th>Florida</th>\n",
       "      <td>19552860</td>\n",
       "      <td>170312</td>\n",
       "    </tr>\n",
       "    <tr>\n",
       "      <th>Illinois</th>\n",
       "      <td>12882135</td>\n",
       "      <td>149995</td>\n",
       "    </tr>\n",
       "  </tbody>\n",
       "</table>\n",
       "</div>"
      ],
      "text/plain": [
       "            population    area\n",
       "California    38332521  423967\n",
       "Texas         26448193  695662\n",
       "New York      19651127  141297\n",
       "Florida       19552860  170312\n",
       "Illinois      12882135  149995"
      ]
     },
     "execution_count": 8,
     "metadata": {},
     "output_type": "execute_result"
    }
   ],
   "source": [
    "df = pd.DataFrame({'population': population_series,'area': area_series})\n",
    "print(f\"type of population_series='{type(population_series)}', type of area_series='{type(area_series)}', type of df='{type(df)}'\")\n",
    "df"
   ]
  },
  {
   "cell_type": "code",
   "execution_count": 9,
   "id": "9a6ed9db",
   "metadata": {},
   "outputs": [
    {
     "data": {
      "text/plain": [
       "[423967, 695662, 141297, 170312, 149995]"
      ]
     },
     "execution_count": 9,
     "metadata": {},
     "output_type": "execute_result"
    }
   ],
   "source": [
    "df.area.tolist()"
   ]
  },
  {
   "cell_type": "markdown",
   "id": "1acef4b7",
   "metadata": {},
   "source": [
    "#### 1.3 Index"
   ]
  },
  {
   "cell_type": "markdown",
   "id": "ce7481cd",
   "metadata": {},
   "source": [
    "The Index object is an interesting structure in itself, and it can be thought of either as an immutable array or as an ordered set."
   ]
  },
  {
   "cell_type": "code",
   "execution_count": 10,
   "id": "ac69e018",
   "metadata": {},
   "outputs": [
    {
     "data": {
      "text/plain": [
       "Index(['area'], dtype='object')"
      ]
     },
     "execution_count": 10,
     "metadata": {},
     "output_type": "execute_result"
    }
   ],
   "source": [
    "index1 = pd.Index(['area','population',3,4,5])\n",
    "index2 = pd.Index(['area',8,6,7])\n",
    "intersect = index1.intersection(index2)\n",
    "intersect"
   ]
  },
  {
   "cell_type": "code",
   "execution_count": 11,
   "id": "f0fd7671",
   "metadata": {},
   "outputs": [
    {
     "data": {
      "text/html": [
       "<div>\n",
       "<style scoped>\n",
       "    .dataframe tbody tr th:only-of-type {\n",
       "        vertical-align: middle;\n",
       "    }\n",
       "\n",
       "    .dataframe tbody tr th {\n",
       "        vertical-align: top;\n",
       "    }\n",
       "\n",
       "    .dataframe thead th {\n",
       "        text-align: right;\n",
       "    }\n",
       "</style>\n",
       "<table border=\"1\" class=\"dataframe\">\n",
       "  <thead>\n",
       "    <tr style=\"text-align: right;\">\n",
       "      <th></th>\n",
       "      <th>area</th>\n",
       "    </tr>\n",
       "  </thead>\n",
       "  <tbody>\n",
       "    <tr>\n",
       "      <th>California</th>\n",
       "      <td>423967</td>\n",
       "    </tr>\n",
       "    <tr>\n",
       "      <th>Texas</th>\n",
       "      <td>695662</td>\n",
       "    </tr>\n",
       "    <tr>\n",
       "      <th>New York</th>\n",
       "      <td>141297</td>\n",
       "    </tr>\n",
       "    <tr>\n",
       "      <th>Florida</th>\n",
       "      <td>170312</td>\n",
       "    </tr>\n",
       "    <tr>\n",
       "      <th>Illinois</th>\n",
       "      <td>149995</td>\n",
       "    </tr>\n",
       "  </tbody>\n",
       "</table>\n",
       "</div>"
      ],
      "text/plain": [
       "              area\n",
       "California  423967\n",
       "Texas       695662\n",
       "New York    141297\n",
       "Florida     170312\n",
       "Illinois    149995"
      ]
     },
     "execution_count": 11,
     "metadata": {},
     "output_type": "execute_result"
    }
   ],
   "source": [
    "df[intersect]"
   ]
  },
  {
   "cell_type": "markdown",
   "id": "db6aee3c",
   "metadata": {},
   "source": [
    "## 2. Indexing and selection"
   ]
  },
  {
   "cell_type": "markdown",
   "id": "93de9b3c",
   "metadata": {},
   "source": [
    "See [here](https://www.oreilly.com/learning/data-indexing-and-selection) for more details."
   ]
  },
  {
   "cell_type": "markdown",
   "id": "097899ba",
   "metadata": {},
   "source": [
    "#### 2.1 Series as a dictionary"
   ]
  },
  {
   "cell_type": "code",
   "execution_count": 12,
   "id": "42c8ebe7",
   "metadata": {},
   "outputs": [
    {
     "name": "stdout",
     "output_type": "stream",
     "text": [
      "0.5\n",
      "0.5\n",
      "Index(['a', 'b', 'c', 'd'], dtype='object')\n"
     ]
    },
    {
     "data": {
      "text/plain": [
       "a    0.25\n",
       "b    0.50\n",
       "c    0.75\n",
       "d    1.00\n",
       "dtype: float64"
      ]
     },
     "execution_count": 12,
     "metadata": {},
     "output_type": "execute_result"
    }
   ],
   "source": [
    "series = pd.Series([0.25, 0.5, 0.75, 1.0],index=['a', 'b', 'c', 'd'])\n",
    "print(series['b'])\n",
    "print(series.b)\n",
    "print(series.keys())\n",
    "series"
   ]
  },
  {
   "cell_type": "markdown",
   "id": "de56e0bb",
   "metadata": {},
   "source": [
    "#### 2.2 Series as 1D array"
   ]
  },
  {
   "cell_type": "markdown",
   "id": "e8dea1b0",
   "metadata": {},
   "source": [
    "A Series builds on this dictionary-like interface and provides array-style item selection via slices, masking, and fancy indexing, \n",
    "Notice that when slicing with an explicit index (i.e. `data['a':'c']`), the final index is included in the slice, while when slicing with an implicit index (i.e. `data[0:2]`), the final index is excluded from the slice."
   ]
  },
  {
   "cell_type": "code",
   "execution_count": 13,
   "id": "f67c6185",
   "metadata": {},
   "outputs": [
    {
     "data": {
      "text/plain": [
       "a    0.25\n",
       "b    0.50\n",
       "c    0.75\n",
       "dtype: float64"
      ]
     },
     "execution_count": 13,
     "metadata": {},
     "output_type": "execute_result"
    }
   ],
   "source": [
    "# slicing by explicit index\n",
    "series['a':'c']"
   ]
  },
  {
   "cell_type": "code",
   "execution_count": 14,
   "id": "e6b95e4a",
   "metadata": {},
   "outputs": [
    {
     "data": {
      "text/plain": [
       "a    0.25\n",
       "b    0.50\n",
       "dtype: float64"
      ]
     },
     "execution_count": 14,
     "metadata": {},
     "output_type": "execute_result"
    }
   ],
   "source": [
    "# slicing by implicit integer index\n",
    "series[0:2]"
   ]
  },
  {
   "cell_type": "code",
   "execution_count": 15,
   "id": "d7c95e46",
   "metadata": {},
   "outputs": [
    {
     "data": {
      "text/plain": [
       "b    0.50\n",
       "c    0.75\n",
       "dtype: float64"
      ]
     },
     "execution_count": 15,
     "metadata": {},
     "output_type": "execute_result"
    }
   ],
   "source": [
    "# masking\n",
    "series[(series > 0.3) & (series < 0.8)]"
   ]
  },
  {
   "cell_type": "code",
   "execution_count": 16,
   "id": "7d9ce9c8",
   "metadata": {},
   "outputs": [
    {
     "data": {
      "text/plain": [
       "a    0.25\n",
       "d    1.00\n",
       "dtype: float64"
      ]
     },
     "execution_count": 16,
     "metadata": {},
     "output_type": "execute_result"
    }
   ],
   "source": [
    "# fancy indexing\n",
    "series[['a', 'd']]"
   ]
  },
  {
   "cell_type": "markdown",
   "id": "25c684d7",
   "metadata": {},
   "source": [
    "#### 2.3 Indexers: `.loc[]`,`.iloc[]`,`.ix[]`"
   ]
  },
  {
   "cell_type": "markdown",
   "id": "08ac952b",
   "metadata": {},
   "source": [
    "Because of this potential confusion in the case of integer indexes, `pandas` provides some special indexer attributes which explicitly access certain indexing schemes. These are not functional methods, but attributes which expose a particular slicing interface to the data in the Series.  First, the `loc` attribute allows indexing and slicing which always references the explicit index:"
   ]
  },
  {
   "cell_type": "code",
   "execution_count": 17,
   "id": "7e984a3f",
   "metadata": {},
   "outputs": [
    {
     "data": {
      "text/plain": [
       "'a'"
      ]
     },
     "execution_count": 17,
     "metadata": {},
     "output_type": "execute_result"
    }
   ],
   "source": [
    "series = pd.Series(['a', 'b', 'c'], index=[1, 3, 5])\n",
    "series.loc[1]"
   ]
  },
  {
   "cell_type": "code",
   "execution_count": 18,
   "id": "0818aa9a",
   "metadata": {},
   "outputs": [
    {
     "data": {
      "text/plain": [
       "1    a\n",
       "3    b\n",
       "dtype: object"
      ]
     },
     "execution_count": 18,
     "metadata": {},
     "output_type": "execute_result"
    }
   ],
   "source": [
    "series.loc[1:3]"
   ]
  },
  {
   "cell_type": "markdown",
   "id": "57d98b09",
   "metadata": {},
   "source": [
    "The `iloc` attribute allows indexing and slicing which always references the implicit Python-style index:"
   ]
  },
  {
   "cell_type": "code",
   "execution_count": 19,
   "id": "490db437",
   "metadata": {},
   "outputs": [
    {
     "data": {
      "text/plain": [
       "'b'"
      ]
     },
     "execution_count": 19,
     "metadata": {},
     "output_type": "execute_result"
    }
   ],
   "source": [
    "series.iloc[1]"
   ]
  },
  {
   "cell_type": "code",
   "execution_count": 20,
   "id": "dea9305d",
   "metadata": {},
   "outputs": [
    {
     "data": {
      "text/plain": [
       "3    b\n",
       "5    c\n",
       "dtype: object"
      ]
     },
     "execution_count": 20,
     "metadata": {},
     "output_type": "execute_result"
    }
   ],
   "source": [
    "series.iloc[1:3]"
   ]
  },
  {
   "cell_type": "markdown",
   "id": "e9ff77ce",
   "metadata": {},
   "source": [
    "A third indexing attribute, `ix`, is a hybrid of the two, and for Series objects is equivalent to standard []-based indexing.  Note **`ix` is deprecated now**.  The explicit nature of loc and iloc make them very useful in maintaining clean and readable code; especially in the case of integer indexes."
   ]
  },
  {
   "cell_type": "code",
   "execution_count": 21,
   "id": "905d2b06",
   "metadata": {},
   "outputs": [
    {
     "name": "stdout",
     "output_type": "stream",
     "text": [
      "'Series' object has no attribute 'ix'\n"
     ]
    }
   ],
   "source": [
    "try:\n",
    "    series.ix[1:3]\n",
    "except Exception as e:\n",
    "    print(e)"
   ]
  },
  {
   "cell_type": "markdown",
   "id": "d3a12cc5",
   "metadata": {},
   "source": [
    "Let's create a dataframe `df` using two series:"
   ]
  },
  {
   "cell_type": "code",
   "execution_count": 22,
   "id": "50c887ad",
   "metadata": {},
   "outputs": [
    {
     "data": {
      "text/html": [
       "<div>\n",
       "<style scoped>\n",
       "    .dataframe tbody tr th:only-of-type {\n",
       "        vertical-align: middle;\n",
       "    }\n",
       "\n",
       "    .dataframe tbody tr th {\n",
       "        vertical-align: top;\n",
       "    }\n",
       "\n",
       "    .dataframe thead th {\n",
       "        text-align: right;\n",
       "    }\n",
       "</style>\n",
       "<table border=\"1\" class=\"dataframe\">\n",
       "  <thead>\n",
       "    <tr style=\"text-align: right;\">\n",
       "      <th></th>\n",
       "      <th>area</th>\n",
       "      <th>pop</th>\n",
       "    </tr>\n",
       "  </thead>\n",
       "  <tbody>\n",
       "    <tr>\n",
       "      <th>California</th>\n",
       "      <td>423967</td>\n",
       "      <td>38332521</td>\n",
       "    </tr>\n",
       "    <tr>\n",
       "      <th>Texas</th>\n",
       "      <td>695662</td>\n",
       "      <td>26448193</td>\n",
       "    </tr>\n",
       "    <tr>\n",
       "      <th>New York</th>\n",
       "      <td>141297</td>\n",
       "      <td>19651127</td>\n",
       "    </tr>\n",
       "    <tr>\n",
       "      <th>Florida</th>\n",
       "      <td>170312</td>\n",
       "      <td>19552860</td>\n",
       "    </tr>\n",
       "    <tr>\n",
       "      <th>Illinois</th>\n",
       "      <td>149995</td>\n",
       "      <td>12882135</td>\n",
       "    </tr>\n",
       "  </tbody>\n",
       "</table>\n",
       "</div>"
      ],
      "text/plain": [
       "              area       pop\n",
       "California  423967  38332521\n",
       "Texas       695662  26448193\n",
       "New York    141297  19651127\n",
       "Florida     170312  19552860\n",
       "Illinois    149995  12882135"
      ]
     },
     "execution_count": 22,
     "metadata": {},
     "output_type": "execute_result"
    }
   ],
   "source": [
    "area_series = pd.Series({'California': 423967, 'Texas': 695662,'New York': 141297, \n",
    "                  'Florida': 170312,'Illinois': 149995})\n",
    "population_series = pd.Series({'California': 38332521, 'Texas': 26448193,'New York': 19651127, \n",
    "                 'Florida': 19552860,'Illinois': 12882135})\n",
    "df = pd.DataFrame({'area':area_series, 'pop':population_series})\n",
    "df"
   ]
  },
  {
   "cell_type": "markdown",
   "id": "4f06662e",
   "metadata": {},
   "source": [
    "We can use attribute-style access with column names which are strings. For example:"
   ]
  },
  {
   "cell_type": "code",
   "execution_count": 23,
   "id": "d5198168",
   "metadata": {},
   "outputs": [
    {
     "data": {
      "text/plain": [
       "True"
      ]
     },
     "execution_count": 23,
     "metadata": {},
     "output_type": "execute_result"
    }
   ],
   "source": [
    "df.area is df['area']"
   ]
  },
  {
   "cell_type": "markdown",
   "id": "7528ee8a",
   "metadata": {},
   "source": [
    "Though this is a useful shorthand, keep in mind that it does not work for all cases! For example, if the column names are not strings, or if the column names conflict with methods of the dataframe, this attribute-style access is not possible. For example, the DataFrame has a `pop` method, so `data.pop` will point to this rather than the `pop` column:"
   ]
  },
  {
   "cell_type": "code",
   "execution_count": 24,
   "id": "f5dc99d8",
   "metadata": {},
   "outputs": [
    {
     "data": {
      "text/plain": [
       "False"
      ]
     },
     "execution_count": 24,
     "metadata": {},
     "output_type": "execute_result"
    }
   ],
   "source": [
    "df.pop is df['pop']"
   ]
  },
  {
   "cell_type": "markdown",
   "id": "59885bbb",
   "metadata": {},
   "source": [
    "`.loc[]` is used for accessing a group of rows and columns by **label(s)** or a boolean array.  Here's an example by label:"
   ]
  },
  {
   "cell_type": "code",
   "execution_count": 25,
   "id": "83456934",
   "metadata": {},
   "outputs": [
    {
     "data": {
      "text/plain": [
       "26448193"
      ]
     },
     "execution_count": 25,
     "metadata": {},
     "output_type": "execute_result"
    }
   ],
   "source": [
    "df.loc[\"Texas\",\"pop\"]"
   ]
  },
  {
   "cell_type": "markdown",
   "id": "90fca156",
   "metadata": {},
   "source": [
    "Here's an example by boolean array pulling out the same value which returns a dataframe:"
   ]
  },
  {
   "cell_type": "code",
   "execution_count": 26,
   "id": "115acc06",
   "metadata": {},
   "outputs": [
    {
     "data": {
      "text/html": [
       "<div>\n",
       "<style scoped>\n",
       "    .dataframe tbody tr th:only-of-type {\n",
       "        vertical-align: middle;\n",
       "    }\n",
       "\n",
       "    .dataframe tbody tr th {\n",
       "        vertical-align: top;\n",
       "    }\n",
       "\n",
       "    .dataframe thead th {\n",
       "        text-align: right;\n",
       "    }\n",
       "</style>\n",
       "<table border=\"1\" class=\"dataframe\">\n",
       "  <thead>\n",
       "    <tr style=\"text-align: right;\">\n",
       "      <th></th>\n",
       "      <th>pop</th>\n",
       "    </tr>\n",
       "  </thead>\n",
       "  <tbody>\n",
       "    <tr>\n",
       "      <th>Texas</th>\n",
       "      <td>26448193</td>\n",
       "    </tr>\n",
       "  </tbody>\n",
       "</table>\n",
       "</div>"
      ],
      "text/plain": [
       "            pop\n",
       "Texas  26448193"
      ]
     },
     "execution_count": 26,
     "metadata": {},
     "output_type": "execute_result"
    }
   ],
   "source": [
    "df.loc[[False,True,False,False,False],[False,True]]"
   ]
  },
  {
   "cell_type": "markdown",
   "id": "ce287b41",
   "metadata": {},
   "source": [
    "**Explicit** access by label is up to and including the final index - this `.loc[]` request gets us the whole dataframe:"
   ]
  },
  {
   "cell_type": "code",
   "execution_count": 27,
   "id": "e2ad2a66",
   "metadata": {},
   "outputs": [
    {
     "data": {
      "text/html": [
       "<div>\n",
       "<style scoped>\n",
       "    .dataframe tbody tr th:only-of-type {\n",
       "        vertical-align: middle;\n",
       "    }\n",
       "\n",
       "    .dataframe tbody tr th {\n",
       "        vertical-align: top;\n",
       "    }\n",
       "\n",
       "    .dataframe thead th {\n",
       "        text-align: right;\n",
       "    }\n",
       "</style>\n",
       "<table border=\"1\" class=\"dataframe\">\n",
       "  <thead>\n",
       "    <tr style=\"text-align: right;\">\n",
       "      <th></th>\n",
       "      <th>area</th>\n",
       "      <th>pop</th>\n",
       "    </tr>\n",
       "  </thead>\n",
       "  <tbody>\n",
       "    <tr>\n",
       "      <th>California</th>\n",
       "      <td>423967</td>\n",
       "      <td>38332521</td>\n",
       "    </tr>\n",
       "    <tr>\n",
       "      <th>Texas</th>\n",
       "      <td>695662</td>\n",
       "      <td>26448193</td>\n",
       "    </tr>\n",
       "    <tr>\n",
       "      <th>New York</th>\n",
       "      <td>141297</td>\n",
       "      <td>19651127</td>\n",
       "    </tr>\n",
       "    <tr>\n",
       "      <th>Florida</th>\n",
       "      <td>170312</td>\n",
       "      <td>19552860</td>\n",
       "    </tr>\n",
       "    <tr>\n",
       "      <th>Illinois</th>\n",
       "      <td>149995</td>\n",
       "      <td>12882135</td>\n",
       "    </tr>\n",
       "  </tbody>\n",
       "</table>\n",
       "</div>"
      ],
      "text/plain": [
       "              area       pop\n",
       "California  423967  38332521\n",
       "Texas       695662  26448193\n",
       "New York    141297  19651127\n",
       "Florida     170312  19552860\n",
       "Illinois    149995  12882135"
      ]
     },
     "execution_count": 27,
     "metadata": {},
     "output_type": "execute_result"
    }
   ],
   "source": [
    "df.loc[:'Illinois', :'pop']"
   ]
  },
  {
   "cell_type": "markdown",
   "id": "6758f032",
   "metadata": {},
   "source": [
    ".iloc[] is primarily by **integer index** (from 0 to length-1 of the axis), but may also be used with a boolean array."
   ]
  },
  {
   "cell_type": "code",
   "execution_count": 28,
   "id": "861e8b0e",
   "metadata": {},
   "outputs": [
    {
     "data": {
      "text/plain": [
       "26448193"
      ]
     },
     "execution_count": 28,
     "metadata": {},
     "output_type": "execute_result"
    }
   ],
   "source": [
    "df.iloc[1,1]"
   ]
  },
  {
   "cell_type": "markdown",
   "id": "76a6e133",
   "metadata": {},
   "source": [
    "**Implicit** access is up to but excluding the final index."
   ]
  },
  {
   "cell_type": "code",
   "execution_count": 29,
   "id": "1aca3a4f",
   "metadata": {},
   "outputs": [
    {
     "data": {
      "text/html": [
       "<div>\n",
       "<style scoped>\n",
       "    .dataframe tbody tr th:only-of-type {\n",
       "        vertical-align: middle;\n",
       "    }\n",
       "\n",
       "    .dataframe tbody tr th {\n",
       "        vertical-align: top;\n",
       "    }\n",
       "\n",
       "    .dataframe thead th {\n",
       "        text-align: right;\n",
       "    }\n",
       "</style>\n",
       "<table border=\"1\" class=\"dataframe\">\n",
       "  <thead>\n",
       "    <tr style=\"text-align: right;\">\n",
       "      <th></th>\n",
       "      <th>area</th>\n",
       "      <th>pop</th>\n",
       "    </tr>\n",
       "  </thead>\n",
       "  <tbody>\n",
       "    <tr>\n",
       "      <th>California</th>\n",
       "      <td>423967</td>\n",
       "      <td>38332521</td>\n",
       "    </tr>\n",
       "    <tr>\n",
       "      <th>Texas</th>\n",
       "      <td>695662</td>\n",
       "      <td>26448193</td>\n",
       "    </tr>\n",
       "    <tr>\n",
       "      <th>New York</th>\n",
       "      <td>141297</td>\n",
       "      <td>19651127</td>\n",
       "    </tr>\n",
       "  </tbody>\n",
       "</table>\n",
       "</div>"
      ],
      "text/plain": [
       "              area       pop\n",
       "California  423967  38332521\n",
       "Texas       695662  26448193\n",
       "New York    141297  19651127"
      ]
     },
     "execution_count": 29,
     "metadata": {},
     "output_type": "execute_result"
    }
   ],
   "source": [
    "df.iloc[:3, :2]"
   ]
  },
  {
   "cell_type": "markdown",
   "id": "9336f1ee-b73d-43e2-b554-ca0164a1771c",
   "metadata": {},
   "source": [
    "## 3. `pandas` plotting"
   ]
  },
  {
   "cell_type": "markdown",
   "id": "331e0e42-73f0-4eb6-8a2a-7435c8e1a298",
   "metadata": {},
   "source": [
    "Let's retrieve some data, in this case a csv text file contining a noisy sine wave data set, and load it into a dataframe `df`."
   ]
  },
  {
   "cell_type": "code",
   "execution_count": 30,
   "id": "09f7a924-004d-4bb4-88a8-4cfdf4622af5",
   "metadata": {},
   "outputs": [
    {
     "name": "stdout",
     "output_type": "stream",
     "text": [
      "1. Retrieving dataset\n",
      "Target 'unknown_fxn_data.txt' already exists and will be used\n"
     ]
    }
   ],
   "source": [
    "import os, urllib\n",
    "\n",
    "print(\"1. Retrieving dataset\")\n",
    "target = 'unknown_fxn_data.txt'\n",
    "if not os.path.exists(target):\n",
    "    print(f\"Downloading '{target}'...\")\n",
    "    url = \"http://www.sharpsightlabs.com/wp-content/uploads/2016/04/unknown_fxn_data.txt\"\n",
    "    data = urllib.request.urlopen(url).read()\n",
    "    with open(target,'wb') as f:\n",
    "        f.write(data)\n",
    "    flen = os.stat(target).st_size\n",
    "    print(f\"Downloaded {flen} bytes to file '{target}'\")\n",
    "else:\n",
    "    print(f\"Target '{target}' already exists and will be used\")"
   ]
  },
  {
   "cell_type": "code",
   "execution_count": 31,
   "id": "06f2f60c-03ef-43ac-bc1e-469687428861",
   "metadata": {},
   "outputs": [
    {
     "name": "stdout",
     "output_type": "stream",
     "text": [
      "2. Create pandas dataframe from dataset\n"
     ]
    },
    {
     "data": {
      "text/plain": [
       "Index(['input_var', 'target_var'], dtype='object')"
      ]
     },
     "execution_count": 31,
     "metadata": {},
     "output_type": "execute_result"
    }
   ],
   "source": [
    "# 2. open it in pandas\n",
    "print(\"2. Create pandas dataframe from dataset\")\n",
    "df = pd.read_csv(target)\n",
    "df.columns  # returns pd.Index"
   ]
  },
  {
   "cell_type": "markdown",
   "id": "1dd9f257-8624-4984-87cf-9938edda0c3c",
   "metadata": {},
   "source": [
    "Check `df.head()` and `df.tail()`. `df.describe()` outputs: `mean, std, min, tp25, tp50, tp75`"
   ]
  },
  {
   "cell_type": "code",
   "execution_count": 32,
   "id": "2c28beca-506e-4693-aa5a-c9a2923bece7",
   "metadata": {},
   "outputs": [
    {
     "name": "stdout",
     "output_type": "stream",
     "text": [
      "3. Describe dataframe\n",
      "(nrows,ncols) = (28, 2), colnames = ['input_var' 'target_var']\n",
      "   input_var  target_var\n",
      "0      -2.75   -0.224155\n",
      "1      -2.55   -0.831694 \n",
      "...\n",
      "    input_var  target_var\n",
      "26       2.45    0.692198\n",
      "27       2.65    0.480389\n"
     ]
    },
    {
     "data": {
      "text/html": [
       "<div>\n",
       "<style scoped>\n",
       "    .dataframe tbody tr th:only-of-type {\n",
       "        vertical-align: middle;\n",
       "    }\n",
       "\n",
       "    .dataframe tbody tr th {\n",
       "        vertical-align: top;\n",
       "    }\n",
       "\n",
       "    .dataframe thead th {\n",
       "        text-align: right;\n",
       "    }\n",
       "</style>\n",
       "<table border=\"1\" class=\"dataframe\">\n",
       "  <thead>\n",
       "    <tr style=\"text-align: right;\">\n",
       "      <th></th>\n",
       "      <th>input_var</th>\n",
       "      <th>target_var</th>\n",
       "    </tr>\n",
       "  </thead>\n",
       "  <tbody>\n",
       "    <tr>\n",
       "      <th>count</th>\n",
       "      <td>28.000000</td>\n",
       "      <td>28.000000</td>\n",
       "    </tr>\n",
       "    <tr>\n",
       "      <th>mean</th>\n",
       "      <td>-0.050000</td>\n",
       "      <td>-0.031049</td>\n",
       "    </tr>\n",
       "    <tr>\n",
       "      <th>std</th>\n",
       "      <td>1.645195</td>\n",
       "      <td>0.819265</td>\n",
       "    </tr>\n",
       "    <tr>\n",
       "      <th>min</th>\n",
       "      <td>-2.750000</td>\n",
       "      <td>-1.247315</td>\n",
       "    </tr>\n",
       "    <tr>\n",
       "      <th>25%</th>\n",
       "      <td>-1.400000</td>\n",
       "      <td>-0.758314</td>\n",
       "    </tr>\n",
       "    <tr>\n",
       "      <th>50%</th>\n",
       "      <td>-0.050000</td>\n",
       "      <td>-0.138764</td>\n",
       "    </tr>\n",
       "    <tr>\n",
       "      <th>75%</th>\n",
       "      <td>1.300000</td>\n",
       "      <td>0.695235</td>\n",
       "    </tr>\n",
       "    <tr>\n",
       "      <th>max</th>\n",
       "      <td>2.650000</td>\n",
       "      <td>1.177989</td>\n",
       "    </tr>\n",
       "  </tbody>\n",
       "</table>\n",
       "</div>"
      ],
      "text/plain": [
       "       input_var  target_var\n",
       "count  28.000000   28.000000\n",
       "mean   -0.050000   -0.031049\n",
       "std     1.645195    0.819265\n",
       "min    -2.750000   -1.247315\n",
       "25%    -1.400000   -0.758314\n",
       "50%    -0.050000   -0.138764\n",
       "75%     1.300000    0.695235\n",
       "max     2.650000    1.177989"
      ]
     },
     "execution_count": 32,
     "metadata": {},
     "output_type": "execute_result"
    }
   ],
   "source": [
    "# 3. describe df\n",
    "print(\"3. Describe dataframe\")\n",
    "headers = df.dtypes.index\n",
    "print(\"(nrows,ncols) = %s, colnames = %s\" % (df.shape,headers.values))\n",
    "print(f\"{df.head(2)} \\n...\\n{df.tail(2)}\")\n",
    "df.describe()"
   ]
  },
  {
   "cell_type": "markdown",
   "id": "5d37403a-4996-4b96-b37a-94a3bc769c86",
   "metadata": {},
   "source": [
    "You can get `describe()` to output other percetiles such as tp10, tp50, tp90 as follows:"
   ]
  },
  {
   "cell_type": "code",
   "execution_count": 33,
   "id": "c147f710-dbfa-497a-9e35-8168a55ddbac",
   "metadata": {},
   "outputs": [
    {
     "data": {
      "text/html": [
       "<div>\n",
       "<style scoped>\n",
       "    .dataframe tbody tr th:only-of-type {\n",
       "        vertical-align: middle;\n",
       "    }\n",
       "\n",
       "    .dataframe tbody tr th {\n",
       "        vertical-align: top;\n",
       "    }\n",
       "\n",
       "    .dataframe thead th {\n",
       "        text-align: right;\n",
       "    }\n",
       "</style>\n",
       "<table border=\"1\" class=\"dataframe\">\n",
       "  <thead>\n",
       "    <tr style=\"text-align: right;\">\n",
       "      <th></th>\n",
       "      <th>input_var</th>\n",
       "      <th>target_var</th>\n",
       "    </tr>\n",
       "  </thead>\n",
       "  <tbody>\n",
       "    <tr>\n",
       "      <th>count</th>\n",
       "      <td>28.000000</td>\n",
       "      <td>28.000000</td>\n",
       "    </tr>\n",
       "    <tr>\n",
       "      <th>mean</th>\n",
       "      <td>-0.050000</td>\n",
       "      <td>-0.031049</td>\n",
       "    </tr>\n",
       "    <tr>\n",
       "      <th>std</th>\n",
       "      <td>1.645195</td>\n",
       "      <td>0.819265</td>\n",
       "    </tr>\n",
       "    <tr>\n",
       "      <th>min</th>\n",
       "      <td>-2.750000</td>\n",
       "      <td>-1.247315</td>\n",
       "    </tr>\n",
       "    <tr>\n",
       "      <th>10%</th>\n",
       "      <td>-2.210000</td>\n",
       "      <td>-1.061525</td>\n",
       "    </tr>\n",
       "    <tr>\n",
       "      <th>50%</th>\n",
       "      <td>-0.050000</td>\n",
       "      <td>-0.138764</td>\n",
       "    </tr>\n",
       "    <tr>\n",
       "      <th>90%</th>\n",
       "      <td>2.110000</td>\n",
       "      <td>1.104335</td>\n",
       "    </tr>\n",
       "    <tr>\n",
       "      <th>max</th>\n",
       "      <td>2.650000</td>\n",
       "      <td>1.177989</td>\n",
       "    </tr>\n",
       "  </tbody>\n",
       "</table>\n",
       "</div>"
      ],
      "text/plain": [
       "       input_var  target_var\n",
       "count  28.000000   28.000000\n",
       "mean   -0.050000   -0.031049\n",
       "std     1.645195    0.819265\n",
       "min    -2.750000   -1.247315\n",
       "10%    -2.210000   -1.061525\n",
       "50%    -0.050000   -0.138764\n",
       "90%     2.110000    1.104335\n",
       "max     2.650000    1.177989"
      ]
     },
     "execution_count": 33,
     "metadata": {},
     "output_type": "execute_result"
    }
   ],
   "source": [
    "df.describe(percentiles=[.1,.5,.9])"
   ]
  },
  {
   "cell_type": "markdown",
   "id": "f7c79440-9c68-49b3-be9e-ad17b151fba4",
   "metadata": {},
   "source": [
    "Here's how to get just the `mean` of a column."
   ]
  },
  {
   "cell_type": "code",
   "execution_count": 34,
   "id": "3603dc4a-1b19-4851-b2e2-8dd782e7c087",
   "metadata": {},
   "outputs": [
    {
     "data": {
      "text/plain": [
       "-0.03104925279239459"
      ]
     },
     "execution_count": 34,
     "metadata": {},
     "output_type": "execute_result"
    }
   ],
   "source": [
    "df.target_var.mean()"
   ]
  },
  {
   "cell_type": "markdown",
   "id": "b2278831-9da2-4731-a93a-0ffecaf753e0",
   "metadata": {},
   "source": [
    "Let's draw a line plot of `input_var` vs. `target_var` using `df.plot()`.  More on the basics of using `df.plot()` [here](https://www.oreilly.com/learning/simple-line-plots-with-matplotlib)."
   ]
  },
  {
   "cell_type": "code",
   "execution_count": 35,
   "id": "3412dd62-f17d-4765-aac0-0beb567b2849",
   "metadata": {},
   "outputs": [
    {
     "data": {
      "image/png": "[encoded data removed]",
      "text/plain": [
       "<Figure size 1400x700 with 1 Axes>"
      ]
     },
     "metadata": {},
     "output_type": "display_data"
    }
   ],
   "source": [
    "import matplotlib\n",
    "import matplotlib.pyplot as plt\n",
    "\n",
    "# 4. pandas plot\n",
    "title = f\"basic pandas plot of input_var vs. target_var using df.plot()\"\n",
    "ax = df.plot(figsize=(14,7), x='input_var',y='target_var',color='g',linestyle='dotted')\n",
    "ax.set(xlabel='input_var', ylabel='target_var')\n",
    "ax.set_title(title,fontsize=14)\n",
    "plt.tight_layout()"
   ]
  },
  {
   "cell_type": "code",
   "execution_count": 36,
   "id": "b6686eda-119a-458f-8bff-48b29a968b15",
   "metadata": {},
   "outputs": [
    {
     "data": {
      "image/png": "[encoded data removed]",
      "text/plain": [
       "<Figure size 1400x700 with 1 Axes>"
      ]
     },
     "metadata": {},
     "output_type": "display_data"
    }
   ],
   "source": [
    "title = f\"scatterplot of input_var vs. target_var using df.plot.scatter()\"\n",
    "ax = df.plot.scatter(figsize=(14,7), x='input_var',y='target_var',color='g',s=10)\n",
    "ax.set(xlabel='input_var', ylabel='target_var')\n",
    "ax.set_title(title,fontsize=14)\n",
    "plt.tight_layout()"
   ]
  },
  {
   "cell_type": "markdown",
   "id": "2fb82b85-9d66-43a0-8e1a-87241657c33c",
   "metadata": {},
   "source": [
    "For completeness, we can also use `matplotlib.pyplot` directly to support graph drawing:"
   ]
  },
  {
   "cell_type": "code",
   "execution_count": 37,
   "id": "2704eefd-a34a-462f-b3d3-897e05303fd2",
   "metadata": {},
   "outputs": [
    {
     "data": {
      "image/png": "[encoded data removed]",
      "text/plain": [
       "<Figure size 1400x700 with 1 Axes>"
      ]
     },
     "metadata": {},
     "output_type": "display_data"
    }
   ],
   "source": [
    "title = f\"scatterplot of input_var vs target_var using plt.scatter()\"\n",
    "fig = plt.figure(figsize=(14,7))\n",
    "ax = plt.subplot(111)\n",
    "plt.scatter(x=df.input_var,y=df.target_var,c='g',s=10)\n",
    "ax.set_xlabel('input_var', fontsize=12)\n",
    "ax.set_ylabel('target_var', fontsize=12)\n",
    "ax.set_title(title, fontsize=14)\n",
    "plt.tight_layout()"
   ]
  },
  {
   "cell_type": "markdown",
   "id": "7362a236-fc37-4ced-9c7a-929a7ea4b0f1",
   "metadata": {
    "tags": []
   },
   "source": [
    "## 4. `groupby` and `pivot_table`"
   ]
  },
  {
   "cell_type": "markdown",
   "id": "4e88b088-c190-435e-b1b1-29f15e65d42d",
   "metadata": {},
   "source": [
    "Let's get the Titanic dataset using the [`seaborn`](https://seaborn.pydata.org/) visualisation module.  `seaborn` provides an API on top of `matplotlib` which uses some nice plot & color defaults as well as simple functions for common statistical plot types. It also integrates with the functionality provided by `pandas` dataframes.  We can set the `seaborn` style as the default `matplotlib` style by calling `sns.set()`.  After doing this, even simple `matplotlib` and `pandas` plots will look much better.  More notes [here](https://www.oreilly.com/learning/data-visualization-with-seaborn)."
   ]
  },
  {
   "cell_type": "code",
   "execution_count": 38,
   "id": "f70e0b89-33c6-4788-adef-cbd2afd259bf",
   "metadata": {},
   "outputs": [
    {
     "name": "stdout",
     "output_type": "stream",
     "text": [
      "(891, 15)\n"
     ]
    },
    {
     "data": {
      "text/html": [
       "<div>\n",
       "<style scoped>\n",
       "    .dataframe tbody tr th:only-of-type {\n",
       "        vertical-align: middle;\n",
       "    }\n",
       "\n",
       "    .dataframe tbody tr th {\n",
       "        vertical-align: top;\n",
       "    }\n",
       "\n",
       "    .dataframe thead th {\n",
       "        text-align: right;\n",
       "    }\n",
       "</style>\n",
       "<table border=\"1\" class=\"dataframe\">\n",
       "  <thead>\n",
       "    <tr style=\"text-align: right;\">\n",
       "      <th></th>\n",
       "      <th>survived</th>\n",
       "      <th>pclass</th>\n",
       "      <th>sex</th>\n",
       "      <th>age</th>\n",
       "      <th>sibsp</th>\n",
       "      <th>parch</th>\n",
       "      <th>fare</th>\n",
       "      <th>embarked</th>\n",
       "      <th>class</th>\n",
       "      <th>who</th>\n",
       "      <th>adult_male</th>\n",
       "      <th>deck</th>\n",
       "      <th>embark_town</th>\n",
       "      <th>alive</th>\n",
       "      <th>alone</th>\n",
       "    </tr>\n",
       "  </thead>\n",
       "  <tbody>\n",
       "    <tr>\n",
       "      <th>0</th>\n",
       "      <td>0</td>\n",
       "      <td>3</td>\n",
       "      <td>male</td>\n",
       "      <td>22.0</td>\n",
       "      <td>1</td>\n",
       "      <td>0</td>\n",
       "      <td>7.2500</td>\n",
       "      <td>S</td>\n",
       "      <td>Third</td>\n",
       "      <td>man</td>\n",
       "      <td>True</td>\n",
       "      <td>NaN</td>\n",
       "      <td>Southampton</td>\n",
       "      <td>no</td>\n",
       "      <td>False</td>\n",
       "    </tr>\n",
       "    <tr>\n",
       "      <th>1</th>\n",
       "      <td>1</td>\n",
       "      <td>1</td>\n",
       "      <td>female</td>\n",
       "      <td>38.0</td>\n",
       "      <td>1</td>\n",
       "      <td>0</td>\n",
       "      <td>71.2833</td>\n",
       "      <td>C</td>\n",
       "      <td>First</td>\n",
       "      <td>woman</td>\n",
       "      <td>False</td>\n",
       "      <td>C</td>\n",
       "      <td>Cherbourg</td>\n",
       "      <td>yes</td>\n",
       "      <td>False</td>\n",
       "    </tr>\n",
       "    <tr>\n",
       "      <th>2</th>\n",
       "      <td>1</td>\n",
       "      <td>3</td>\n",
       "      <td>female</td>\n",
       "      <td>26.0</td>\n",
       "      <td>0</td>\n",
       "      <td>0</td>\n",
       "      <td>7.9250</td>\n",
       "      <td>S</td>\n",
       "      <td>Third</td>\n",
       "      <td>woman</td>\n",
       "      <td>False</td>\n",
       "      <td>NaN</td>\n",
       "      <td>Southampton</td>\n",
       "      <td>yes</td>\n",
       "      <td>True</td>\n",
       "    </tr>\n",
       "    <tr>\n",
       "      <th>3</th>\n",
       "      <td>1</td>\n",
       "      <td>1</td>\n",
       "      <td>female</td>\n",
       "      <td>35.0</td>\n",
       "      <td>1</td>\n",
       "      <td>0</td>\n",
       "      <td>53.1000</td>\n",
       "      <td>S</td>\n",
       "      <td>First</td>\n",
       "      <td>woman</td>\n",
       "      <td>False</td>\n",
       "      <td>C</td>\n",
       "      <td>Southampton</td>\n",
       "      <td>yes</td>\n",
       "      <td>False</td>\n",
       "    </tr>\n",
       "    <tr>\n",
       "      <th>4</th>\n",
       "      <td>0</td>\n",
       "      <td>3</td>\n",
       "      <td>male</td>\n",
       "      <td>35.0</td>\n",
       "      <td>0</td>\n",
       "      <td>0</td>\n",
       "      <td>8.0500</td>\n",
       "      <td>S</td>\n",
       "      <td>Third</td>\n",
       "      <td>man</td>\n",
       "      <td>True</td>\n",
       "      <td>NaN</td>\n",
       "      <td>Southampton</td>\n",
       "      <td>no</td>\n",
       "      <td>True</td>\n",
       "    </tr>\n",
       "    <tr>\n",
       "      <th>5</th>\n",
       "      <td>0</td>\n",
       "      <td>3</td>\n",
       "      <td>male</td>\n",
       "      <td>NaN</td>\n",
       "      <td>0</td>\n",
       "      <td>0</td>\n",
       "      <td>8.4583</td>\n",
       "      <td>Q</td>\n",
       "      <td>Third</td>\n",
       "      <td>man</td>\n",
       "      <td>True</td>\n",
       "      <td>NaN</td>\n",
       "      <td>Queenstown</td>\n",
       "      <td>no</td>\n",
       "      <td>True</td>\n",
       "    </tr>\n",
       "    <tr>\n",
       "      <th>6</th>\n",
       "      <td>0</td>\n",
       "      <td>1</td>\n",
       "      <td>male</td>\n",
       "      <td>54.0</td>\n",
       "      <td>0</td>\n",
       "      <td>0</td>\n",
       "      <td>51.8625</td>\n",
       "      <td>S</td>\n",
       "      <td>First</td>\n",
       "      <td>man</td>\n",
       "      <td>True</td>\n",
       "      <td>E</td>\n",
       "      <td>Southampton</td>\n",
       "      <td>no</td>\n",
       "      <td>True</td>\n",
       "    </tr>\n",
       "    <tr>\n",
       "      <th>7</th>\n",
       "      <td>0</td>\n",
       "      <td>3</td>\n",
       "      <td>male</td>\n",
       "      <td>2.0</td>\n",
       "      <td>3</td>\n",
       "      <td>1</td>\n",
       "      <td>21.0750</td>\n",
       "      <td>S</td>\n",
       "      <td>Third</td>\n",
       "      <td>child</td>\n",
       "      <td>False</td>\n",
       "      <td>NaN</td>\n",
       "      <td>Southampton</td>\n",
       "      <td>no</td>\n",
       "      <td>False</td>\n",
       "    </tr>\n",
       "    <tr>\n",
       "      <th>8</th>\n",
       "      <td>1</td>\n",
       "      <td>3</td>\n",
       "      <td>female</td>\n",
       "      <td>27.0</td>\n",
       "      <td>0</td>\n",
       "      <td>2</td>\n",
       "      <td>11.1333</td>\n",
       "      <td>S</td>\n",
       "      <td>Third</td>\n",
       "      <td>woman</td>\n",
       "      <td>False</td>\n",
       "      <td>NaN</td>\n",
       "      <td>Southampton</td>\n",
       "      <td>yes</td>\n",
       "      <td>False</td>\n",
       "    </tr>\n",
       "    <tr>\n",
       "      <th>9</th>\n",
       "      <td>1</td>\n",
       "      <td>2</td>\n",
       "      <td>female</td>\n",
       "      <td>14.0</td>\n",
       "      <td>1</td>\n",
       "      <td>0</td>\n",
       "      <td>30.0708</td>\n",
       "      <td>C</td>\n",
       "      <td>Second</td>\n",
       "      <td>child</td>\n",
       "      <td>False</td>\n",
       "      <td>NaN</td>\n",
       "      <td>Cherbourg</td>\n",
       "      <td>yes</td>\n",
       "      <td>False</td>\n",
       "    </tr>\n",
       "  </tbody>\n",
       "</table>\n",
       "</div>"
      ],
      "text/plain": [
       "   survived  pclass     sex   age  sibsp  parch     fare embarked   class  \\\n",
       "0         0       3    male  22.0      1      0   7.2500        S   Third   \n",
       "1         1       1  female  38.0      1      0  71.2833        C   First   \n",
       "2         1       3  female  26.0      0      0   7.9250        S   Third   \n",
       "3         1       1  female  35.0      1      0  53.1000        S   First   \n",
       "4         0       3    male  35.0      0      0   8.0500        S   Third   \n",
       "5         0       3    male   NaN      0      0   8.4583        Q   Third   \n",
       "6         0       1    male  54.0      0      0  51.8625        S   First   \n",
       "7         0       3    male   2.0      3      1  21.0750        S   Third   \n",
       "8         1       3  female  27.0      0      2  11.1333        S   Third   \n",
       "9         1       2  female  14.0      1      0  30.0708        C  Second   \n",
       "\n",
       "     who  adult_male deck  embark_town alive  alone  \n",
       "0    man        True  NaN  Southampton    no  False  \n",
       "1  woman       False    C    Cherbourg   yes  False  \n",
       "2  woman       False  NaN  Southampton   yes   True  \n",
       "3  woman       False    C  Southampton   yes  False  \n",
       "4    man        True  NaN  Southampton    no   True  \n",
       "5    man        True  NaN   Queenstown    no   True  \n",
       "6    man        True    E  Southampton    no   True  \n",
       "7  child       False  NaN  Southampton    no  False  \n",
       "8  woman       False  NaN  Southampton   yes  False  \n",
       "9  child       False  NaN    Cherbourg   yes  False  "
      ]
     },
     "execution_count": 38,
     "metadata": {},
     "output_type": "execute_result"
    }
   ],
   "source": [
    "import seaborn as sns\n",
    "#sns.set_style('white')\n",
    "\n",
    "titanic_df = sns.load_dataset('titanic')\n",
    "print(titanic_df.shape)\n",
    "titanic_df.head(10)"
   ]
  },
  {
   "cell_type": "markdown",
   "id": "6d373c6e-f25d-4e26-b080-ca43e24780f5",
   "metadata": {},
   "source": [
    "To start learning more about this data, we might want to like to group it by gender, survival, or some combination thereof. You might be tempted to start by applying a `groupby` operation to this data. For example, let’s look at survival rate by gender:"
   ]
  },
  {
   "cell_type": "code",
   "execution_count": 39,
   "id": "d93e7dff",
   "metadata": {},
   "outputs": [
    {
     "data": {
      "text/html": [
       "<div>\n",
       "<style scoped>\n",
       "    .dataframe tbody tr th:only-of-type {\n",
       "        vertical-align: middle;\n",
       "    }\n",
       "\n",
       "    .dataframe tbody tr th {\n",
       "        vertical-align: top;\n",
       "    }\n",
       "\n",
       "    .dataframe thead th {\n",
       "        text-align: right;\n",
       "    }\n",
       "</style>\n",
       "<table border=\"1\" class=\"dataframe\">\n",
       "  <thead>\n",
       "    <tr style=\"text-align: right;\">\n",
       "      <th></th>\n",
       "      <th>survived</th>\n",
       "    </tr>\n",
       "    <tr>\n",
       "      <th>sex</th>\n",
       "      <th></th>\n",
       "    </tr>\n",
       "  </thead>\n",
       "  <tbody>\n",
       "    <tr>\n",
       "      <th>female</th>\n",
       "      <td>0.742038</td>\n",
       "    </tr>\n",
       "    <tr>\n",
       "      <th>male</th>\n",
       "      <td>0.188908</td>\n",
       "    </tr>\n",
       "  </tbody>\n",
       "</table>\n",
       "</div>"
      ],
      "text/plain": [
       "        survived\n",
       "sex             \n",
       "female  0.742038\n",
       "male    0.188908"
      ]
     },
     "execution_count": 39,
     "metadata": {},
     "output_type": "execute_result"
    }
   ],
   "source": [
    "titanic_df.groupby('sex')[['survived']].mean()"
   ]
  },
  {
   "cell_type": "markdown",
   "id": "f40d79f7-411b-47af-953b-77fbb9458930",
   "metadata": {},
   "source": [
    "We can `groupby` both `sex` and `class` to get more refined means.  Note that the default of `observed=False` is deprecated and will be changed to `True` in a future version of `pandas`. Pass `observed=False` to retain current behavior or o`bserved=True` to adopt the future default and silence this warning."
   ]
  },
  {
   "cell_type": "code",
   "execution_count": 40,
   "id": "8aa66091",
   "metadata": {},
   "outputs": [
    {
     "data": {
      "text/plain": [
       "sex     class \n",
       "female  First     0.968085\n",
       "        Second    0.921053\n",
       "        Third     0.500000\n",
       "male    First     0.368852\n",
       "        Second    0.157407\n",
       "        Third     0.135447\n",
       "Name: survived, dtype: float64"
      ]
     },
     "execution_count": 40,
     "metadata": {},
     "output_type": "execute_result"
    }
   ],
   "source": [
    "titanic_df.groupby(['sex', 'class'], observed=False)['survived'].mean()"
   ]
  },
  {
   "cell_type": "markdown",
   "id": "7d950efc-6e0f-4534-814f-da8639af2f79",
   "metadata": {},
   "source": [
    "Note what happens when we switch the order of the column names in the `groupby`:"
   ]
  },
  {
   "cell_type": "code",
   "execution_count": 41,
   "id": "b351b81a",
   "metadata": {},
   "outputs": [
    {
     "data": {
      "text/plain": [
       "class   sex   \n",
       "First   female    0.968085\n",
       "        male      0.368852\n",
       "Second  female    0.921053\n",
       "        male      0.157407\n",
       "Third   female    0.500000\n",
       "        male      0.135447\n",
       "Name: survived, dtype: float64"
      ]
     },
     "execution_count": 41,
     "metadata": {},
     "output_type": "execute_result"
    }
   ],
   "source": [
    "titanic_df.groupby(['class', 'sex'], observed=False)['survived'].mean()"
   ]
  },
  {
   "cell_type": "markdown",
   "id": "e7215510-2e34-4ffa-87fd-2f2c1da7301d",
   "metadata": {},
   "source": [
    "We can `unstack` the dataframe switching back to `sex` and `class` as follows:"
   ]
  },
  {
   "cell_type": "code",
   "execution_count": 42,
   "id": "7493ea56",
   "metadata": {},
   "outputs": [
    {
     "data": {
      "text/html": [
       "<div>\n",
       "<style scoped>\n",
       "    .dataframe tbody tr th:only-of-type {\n",
       "        vertical-align: middle;\n",
       "    }\n",
       "\n",
       "    .dataframe tbody tr th {\n",
       "        vertical-align: top;\n",
       "    }\n",
       "\n",
       "    .dataframe thead th {\n",
       "        text-align: right;\n",
       "    }\n",
       "</style>\n",
       "<table border=\"1\" class=\"dataframe\">\n",
       "  <thead>\n",
       "    <tr style=\"text-align: right;\">\n",
       "      <th>class</th>\n",
       "      <th>First</th>\n",
       "      <th>Second</th>\n",
       "      <th>Third</th>\n",
       "    </tr>\n",
       "    <tr>\n",
       "      <th>sex</th>\n",
       "      <th></th>\n",
       "      <th></th>\n",
       "      <th></th>\n",
       "    </tr>\n",
       "  </thead>\n",
       "  <tbody>\n",
       "    <tr>\n",
       "      <th>female</th>\n",
       "      <td>0.968085</td>\n",
       "      <td>0.921053</td>\n",
       "      <td>0.500000</td>\n",
       "    </tr>\n",
       "    <tr>\n",
       "      <th>male</th>\n",
       "      <td>0.368852</td>\n",
       "      <td>0.157407</td>\n",
       "      <td>0.135447</td>\n",
       "    </tr>\n",
       "  </tbody>\n",
       "</table>\n",
       "</div>"
      ],
      "text/plain": [
       "class      First    Second     Third\n",
       "sex                                 \n",
       "female  0.968085  0.921053  0.500000\n",
       "male    0.368852  0.157407  0.135447"
      ]
     },
     "execution_count": 42,
     "metadata": {},
     "output_type": "execute_result"
    }
   ],
   "source": [
    "titanic_df.groupby(['sex', 'class'], observed=False)['survived'].aggregate('mean').unstack()"
   ]
  },
  {
   "cell_type": "markdown",
   "id": "d8772bf3-dc61-486e-bcc0-a7f64988272d",
   "metadata": {},
   "source": [
    "This is starting to look a bit complicated.  It's easier to use `pandas` `pivot_table` functionaliy instead.  A `pivot_table` takes simple column-wise data as input, and groups the entries into a two-dimensional table which provides a multi-dimensional summarization of the data.    Her's a simple 1D example:"
   ]
  },
  {
   "cell_type": "code",
   "execution_count": 43,
   "id": "7d1fcab7",
   "metadata": {},
   "outputs": [
    {
     "name": "stdout",
     "output_type": "stream",
     "text": [
      "type of pdf='<class 'pandas.core.frame.DataFrame'>'\n"
     ]
    },
    {
     "data": {
      "text/html": [
       "<div>\n",
       "<style scoped>\n",
       "    .dataframe tbody tr th:only-of-type {\n",
       "        vertical-align: middle;\n",
       "    }\n",
       "\n",
       "    .dataframe tbody tr th {\n",
       "        vertical-align: top;\n",
       "    }\n",
       "\n",
       "    .dataframe thead th {\n",
       "        text-align: right;\n",
       "    }\n",
       "</style>\n",
       "<table border=\"1\" class=\"dataframe\">\n",
       "  <thead>\n",
       "    <tr style=\"text-align: right;\">\n",
       "      <th></th>\n",
       "      <th>survived</th>\n",
       "    </tr>\n",
       "    <tr>\n",
       "      <th>sex</th>\n",
       "      <th></th>\n",
       "    </tr>\n",
       "  </thead>\n",
       "  <tbody>\n",
       "    <tr>\n",
       "      <th>female</th>\n",
       "      <td>0.742038</td>\n",
       "    </tr>\n",
       "    <tr>\n",
       "      <th>male</th>\n",
       "      <td>0.188908</td>\n",
       "    </tr>\n",
       "  </tbody>\n",
       "</table>\n",
       "</div>"
      ],
      "text/plain": [
       "        survived\n",
       "sex             \n",
       "female  0.742038\n",
       "male    0.188908"
      ]
     },
     "execution_count": 43,
     "metadata": {},
     "output_type": "execute_result"
    }
   ],
   "source": [
    "pdf = titanic_df.pivot_table('survived', index='sex')\n",
    "print(f\"type of pdf='{type(pdf)}'\")\n",
    "pdf"
   ]
  },
  {
   "cell_type": "markdown",
   "id": "8dd2047b-d29c-442a-b8d6-12e9040bcfbc",
   "metadata": {},
   "source": [
    "We can create a 2D `pivot_table` to yield the same result as above in less code than by using a `groupby`:"
   ]
  },
  {
   "cell_type": "code",
   "execution_count": 44,
   "id": "42d4c865",
   "metadata": {},
   "outputs": [
    {
     "data": {
      "text/html": [
       "<div>\n",
       "<style scoped>\n",
       "    .dataframe tbody tr th:only-of-type {\n",
       "        vertical-align: middle;\n",
       "    }\n",
       "\n",
       "    .dataframe tbody tr th {\n",
       "        vertical-align: top;\n",
       "    }\n",
       "\n",
       "    .dataframe thead th {\n",
       "        text-align: right;\n",
       "    }\n",
       "</style>\n",
       "<table border=\"1\" class=\"dataframe\">\n",
       "  <thead>\n",
       "    <tr style=\"text-align: right;\">\n",
       "      <th>class</th>\n",
       "      <th>First</th>\n",
       "      <th>Second</th>\n",
       "      <th>Third</th>\n",
       "    </tr>\n",
       "    <tr>\n",
       "      <th>sex</th>\n",
       "      <th></th>\n",
       "      <th></th>\n",
       "      <th></th>\n",
       "    </tr>\n",
       "  </thead>\n",
       "  <tbody>\n",
       "    <tr>\n",
       "      <th>female</th>\n",
       "      <td>0.968085</td>\n",
       "      <td>0.921053</td>\n",
       "      <td>0.500000</td>\n",
       "    </tr>\n",
       "    <tr>\n",
       "      <th>male</th>\n",
       "      <td>0.368852</td>\n",
       "      <td>0.157407</td>\n",
       "      <td>0.135447</td>\n",
       "    </tr>\n",
       "  </tbody>\n",
       "</table>\n",
       "</div>"
      ],
      "text/plain": [
       "class      First    Second     Third\n",
       "sex                                 \n",
       "female  0.968085  0.921053  0.500000\n",
       "male    0.368852  0.157407  0.135447"
      ]
     },
     "execution_count": 44,
     "metadata": {},
     "output_type": "execute_result"
    }
   ],
   "source": [
    "titanic_df.pivot_table('survived', index='sex',columns='class', observed=False)"
   ]
  },
  {
   "cell_type": "markdown",
   "id": "e3330427-db63-49e9-8235-824fd0b1fbd2",
   "metadata": {},
   "source": [
    "We can also switch the columns and rows in the `pivot_table`:"
   ]
  },
  {
   "cell_type": "code",
   "execution_count": 45,
   "id": "e962b9e4",
   "metadata": {},
   "outputs": [
    {
     "data": {
      "text/html": [
       "<div>\n",
       "<style scoped>\n",
       "    .dataframe tbody tr th:only-of-type {\n",
       "        vertical-align: middle;\n",
       "    }\n",
       "\n",
       "    .dataframe tbody tr th {\n",
       "        vertical-align: top;\n",
       "    }\n",
       "\n",
       "    .dataframe thead th {\n",
       "        text-align: right;\n",
       "    }\n",
       "</style>\n",
       "<table border=\"1\" class=\"dataframe\">\n",
       "  <thead>\n",
       "    <tr style=\"text-align: right;\">\n",
       "      <th>sex</th>\n",
       "      <th>female</th>\n",
       "      <th>male</th>\n",
       "    </tr>\n",
       "    <tr>\n",
       "      <th>class</th>\n",
       "      <th></th>\n",
       "      <th></th>\n",
       "    </tr>\n",
       "  </thead>\n",
       "  <tbody>\n",
       "    <tr>\n",
       "      <th>First</th>\n",
       "      <td>0.968085</td>\n",
       "      <td>0.368852</td>\n",
       "    </tr>\n",
       "    <tr>\n",
       "      <th>Second</th>\n",
       "      <td>0.921053</td>\n",
       "      <td>0.157407</td>\n",
       "    </tr>\n",
       "    <tr>\n",
       "      <th>Third</th>\n",
       "      <td>0.500000</td>\n",
       "      <td>0.135447</td>\n",
       "    </tr>\n",
       "  </tbody>\n",
       "</table>\n",
       "</div>"
      ],
      "text/plain": [
       "sex       female      male\n",
       "class                     \n",
       "First   0.968085  0.368852\n",
       "Second  0.921053  0.157407\n",
       "Third   0.500000  0.135447"
      ]
     },
     "execution_count": 45,
     "metadata": {},
     "output_type": "execute_result"
    }
   ],
   "source": [
    "titanic_df.pivot_table('survived', index='class', columns='sex', observed=False)"
   ]
  },
  {
   "cell_type": "markdown",
   "id": "626f9eae-8737-4d06-be52-a4d309794b19",
   "metadata": {},
   "source": [
    "We can also put conditional filters into the `pivot_table`:"
   ]
  },
  {
   "cell_type": "code",
   "execution_count": 46,
   "id": "9c88f492",
   "metadata": {},
   "outputs": [
    {
     "data": {
      "text/html": [
       "<div>\n",
       "<style scoped>\n",
       "    .dataframe tbody tr th:only-of-type {\n",
       "        vertical-align: middle;\n",
       "    }\n",
       "\n",
       "    .dataframe tbody tr th {\n",
       "        vertical-align: top;\n",
       "    }\n",
       "\n",
       "    .dataframe thead tr th {\n",
       "        text-align: left;\n",
       "    }\n",
       "\n",
       "    .dataframe thead tr:last-of-type th {\n",
       "        text-align: right;\n",
       "    }\n",
       "</style>\n",
       "<table border=\"1\" class=\"dataframe\">\n",
       "  <thead>\n",
       "    <tr>\n",
       "      <th></th>\n",
       "      <th>fare</th>\n",
       "      <th colspan=\"3\" halign=\"left\">(-0.001, 14.454]</th>\n",
       "      <th colspan=\"3\" halign=\"left\">(14.454, 512.329]</th>\n",
       "    </tr>\n",
       "    <tr>\n",
       "      <th></th>\n",
       "      <th>class</th>\n",
       "      <th>First</th>\n",
       "      <th>Second</th>\n",
       "      <th>Third</th>\n",
       "      <th>First</th>\n",
       "      <th>Second</th>\n",
       "      <th>Third</th>\n",
       "    </tr>\n",
       "    <tr>\n",
       "      <th>age</th>\n",
       "      <th>sex</th>\n",
       "      <th></th>\n",
       "      <th></th>\n",
       "      <th></th>\n",
       "      <th></th>\n",
       "      <th></th>\n",
       "      <th></th>\n",
       "    </tr>\n",
       "  </thead>\n",
       "  <tbody>\n",
       "    <tr>\n",
       "      <th rowspan=\"2\" valign=\"top\">(0, 18]</th>\n",
       "      <th>female</th>\n",
       "      <td>NaN</td>\n",
       "      <td>1.000000</td>\n",
       "      <td>0.714286</td>\n",
       "      <td>0.909091</td>\n",
       "      <td>1.000000</td>\n",
       "      <td>0.318182</td>\n",
       "    </tr>\n",
       "    <tr>\n",
       "      <th>male</th>\n",
       "      <td>NaN</td>\n",
       "      <td>0.000000</td>\n",
       "      <td>0.260870</td>\n",
       "      <td>0.800000</td>\n",
       "      <td>0.818182</td>\n",
       "      <td>0.178571</td>\n",
       "    </tr>\n",
       "    <tr>\n",
       "      <th rowspan=\"2\" valign=\"top\">(18, 80]</th>\n",
       "      <th>female</th>\n",
       "      <td>NaN</td>\n",
       "      <td>0.880000</td>\n",
       "      <td>0.444444</td>\n",
       "      <td>0.972973</td>\n",
       "      <td>0.914286</td>\n",
       "      <td>0.391304</td>\n",
       "    </tr>\n",
       "    <tr>\n",
       "      <th>male</th>\n",
       "      <td>0.0</td>\n",
       "      <td>0.098039</td>\n",
       "      <td>0.125000</td>\n",
       "      <td>0.391304</td>\n",
       "      <td>0.030303</td>\n",
       "      <td>0.192308</td>\n",
       "    </tr>\n",
       "  </tbody>\n",
       "</table>\n",
       "</div>"
      ],
      "text/plain": [
       "fare            (-0.001, 14.454]                     (14.454, 512.329]  \\\n",
       "class                      First    Second     Third             First   \n",
       "age      sex                                                             \n",
       "(0, 18]  female              NaN  1.000000  0.714286          0.909091   \n",
       "         male                NaN  0.000000  0.260870          0.800000   \n",
       "(18, 80] female              NaN  0.880000  0.444444          0.972973   \n",
       "         male                0.0  0.098039  0.125000          0.391304   \n",
       "\n",
       "fare                                 \n",
       "class              Second     Third  \n",
       "age      sex                         \n",
       "(0, 18]  female  1.000000  0.318182  \n",
       "         male    0.818182  0.178571  \n",
       "(18, 80] female  0.914286  0.391304  \n",
       "         male    0.030303  0.192308  "
      ]
     },
     "execution_count": 46,
     "metadata": {},
     "output_type": "execute_result"
    }
   ],
   "source": [
    "age = pd.cut(titanic_df['age'], [0, 18, 80])\n",
    "fare = pd.qcut(titanic_df['fare'], 2)\n",
    "titanic_df.pivot_table('survived', index=[age,'sex'], columns=[fare,'class'], observed=False)"
   ]
  }
 ],
 "metadata": {
  "kernelspec": {
   "display_name": "Python 3 (ipykernel)",
   "language": "python",
   "name": "python3"
  },
  "language_info": {
   "codemirror_mode": {
    "name": "ipython",
    "version": 3
   },
   "file_extension": ".py",
   "mimetype": "text/x-python",
   "name": "python",
   "nbconvert_exporter": "python",
   "pygments_lexer": "ipython3",
   "version": "3.12.1"
  }
 },
 "nbformat": 4,
 "nbformat_minor": 5
}
