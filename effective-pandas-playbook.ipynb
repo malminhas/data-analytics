{
 "cells": [
  {
   "cell_type": "markdown",
   "id": "9503d45a-6001-4741-b078-9eab0b7fcff5",
   "metadata": {},
   "source": [
    "# Effective Pandas playbook"
   ]
  },
  {
   "cell_type": "markdown",
   "id": "62f58dd6-8ff5-45a1-b7b3-55d267c40f42",
   "metadata": {
    "tags": []
   },
   "source": [
    "<p>\n",
<<<<<<< HEAD
    "Mal Minhas, v1.0<br>\n",
    "24.12.23\n",
    "</p>"
=======
    "Mal Minhas, v1.1<br>\n",
    "24.12.23\n",
    "</p>\n",
    "<p>\n",
    "<h4>Versions</h4>\n",
    "<ul>\n",
    "<li><b>v0.1</b>: 24.12.23. First version covering `Series`</li>\n",
    "<li><b>v1.0</b>: 07.01.24. Updated to include initial `DataFrame` work</li>\n",
    "<li><b>v1.1</b>: 21.01.24. Updated for Python 3.12</li>\n",
    "</ul>\n",
    "</p>\n"
>>>>>>> 2746b21 (Updated pandas notebooks)
   ]
  },
  {
   "cell_type": "markdown",
   "id": "c063d8d6-5568-48fc-9f2b-a5f6504cf835",
   "metadata": {
    "tags": []
   },
   "source": [
    "## Introduction"
   ]
  },
  {
   "cell_type": "markdown",
   "id": "2ad7e322-df4a-4816-af64-b5a9d24d8d73",
   "metadata": {
    "tags": []
   },
   "source": [
    "This playbook captures some key notes of interest from Matt Harrison's [Effective Pandas](https://www.amazon.co.uk/Effective-Pandas-Patterns-Manipulation-Treading/dp/B09MYXXSFM) book.  The book focusses on the two key data structures in `pandas` namely `Series` and `DataFrame`."
   ]
  },
  {
   "cell_type": "markdown",
   "id": "cb9dd225-c8e5-43ab-a324-e1b6de378c4c",
   "metadata": {},
   "source": [
    "## 1. Series"
   ]
  },
  {
   "cell_type": "markdown",
   "id": "96672d4d-4eb8-4c8c-a7b3-a71b56094bb7",
   "metadata": {},
   "source": [
    "### 1.1 Basic `Series` manipulation"
   ]
  },
  {
   "cell_type": "markdown",
   "id": "26ba2b94-36ad-432c-af63-bf5d92d54334",
   "metadata": {},
   "source": [
    "A `Series` is used to model 1-D data.  It has a separate `index` abstraction which can be any value:"
   ]
  },
  {
   "cell_type": "code",
   "execution_count": 1,
   "id": "6938112e-1674-48e2-9f1d-b8b2f54f7511",
   "metadata": {
    "tags": []
   },
   "outputs": [
    {
     "data": {
      "text/plain": [
       "paul      145\n",
       "john      142\n",
       "george     38\n",
       "ringo      13\n",
       "Name: beatles, dtype: int64"
      ]
     },
     "execution_count": 1,
     "metadata": {},
     "output_type": "execute_result"
    }
   ],
   "source": [
    "import pandas as pd\n",
    "\n",
    "songs = pd.Series([145,142,38,13], \n",
    "                  index=['paul','john','george','ringo'], \n",
    "                  name='beatles', \n",
    "                  )\n",
    "songs"
   ]
  },
  {
   "cell_type": "markdown",
   "id": "e44dbd7d-b43b-49f1-8bd9-ace3b98102fe",
   "metadata": {},
   "source": [
    "Filter on a `Series` with a `boolean` array:"
   ]
  },
  {
   "cell_type": "code",
   "execution_count": 2,
   "id": "148cd822-33bc-43e0-9de9-42171610e63f",
   "metadata": {
    "tags": []
   },
   "outputs": [
    {
     "data": {
      "text/plain": [
       "paul    145\n",
       "john    142\n",
       "Name: beatles, dtype: int64"
      ]
     },
     "execution_count": 2,
     "metadata": {},
     "output_type": "execute_result"
    }
   ],
   "source": [
    "songs[songs  > songs.median()]"
   ]
  },
  {
   "cell_type": "markdown",
   "id": "f96512c0-f1e1-4a8c-970a-f5b329e7a930",
   "metadata": {},
   "source": [
    "Chaining methods is better than using operators:"
   ]
  },
  {
   "cell_type": "code",
   "execution_count": 3,
   "id": "499c0ff9-1746-4ea9-9e8d-464547f3344f",
   "metadata": {
    "tags": []
   },
   "outputs": [
    {
     "data": {
      "text/plain": [
       "2"
      ]
     },
     "execution_count": 3,
     "metadata": {},
     "output_type": "execute_result"
    }
   ],
   "source": [
    "songs.gt(100).sum()"
   ]
  },
  {
   "cell_type": "markdown",
   "id": "8c2304aa-9b93-4e3b-b423-8b542fecb012",
   "metadata": {
    "tags": []
   },
   "source": [
    "You can also use `where` in a filter:"
   ]
  },
  {
   "cell_type": "code",
   "execution_count": 4,
   "id": "1523c31a-3ebb-40ba-934d-d972061c09be",
   "metadata": {
    "tags": []
   },
   "outputs": [
    {
     "data": {
      "text/plain": [
       "paul               145\n",
       "john               142\n",
       "george    Below median\n",
       "ringo     Below median\n",
       "Name: beatles, dtype: object"
      ]
     },
     "execution_count": 4,
     "metadata": {},
     "output_type": "execute_result"
    }
   ],
   "source": [
    "top2 = songs[songs  > songs.median()]\n",
    "songs.where(songs.isin(top2), 'Below median')"
   ]
  },
  {
   "cell_type": "code",
   "execution_count": 5,
   "id": "0065bcf8-fdbf-4ef0-9afc-7c4af9e5ed9d",
   "metadata": {
    "tags": []
   },
   "outputs": [
    {
     "data": {
      "text/plain": [
       "paul      4.0\n",
       "john      3.0\n",
       "george    2.0\n",
       "ringo     1.0\n",
       "Name: beatles, dtype: float64"
      ]
     },
     "execution_count": 5,
     "metadata": {},
     "output_type": "execute_result"
    }
   ],
   "source": [
    "songs.rank(method='max',ascending=True)"
   ]
  },
  {
   "cell_type": "code",
   "execution_count": 6,
   "id": "5062cb51-3618-4386-b5b8-1b7608a896cd",
   "metadata": {
    "tags": []
   },
   "outputs": [
    {
     "data": {
      "text/plain": [
       "paul      145\n",
       "john      142\n",
       "george     38\n",
       "ringo      13\n",
       "Name: beatles, dtype: int64"
      ]
     },
     "execution_count": 6,
     "metadata": {},
     "output_type": "execute_result"
    }
   ],
   "source": [
    "songs"
   ]
  },
  {
   "cell_type": "markdown",
   "id": "09c112ed-74f6-4def-8dc9-b08bcc77fb55",
   "metadata": {},
   "source": [
    "`loc` deals with index labels.  Note you have to use square brackets with `loc`:"
   ]
  },
  {
   "cell_type": "code",
   "execution_count": 7,
   "id": "085f04b5-db69-4180-a7b5-106faec1d1c3",
   "metadata": {
    "tags": []
   },
   "outputs": [
    {
     "data": {
      "text/plain": [
       "142"
      ]
     },
     "execution_count": 7,
     "metadata": {},
     "output_type": "execute_result"
    }
   ],
   "source": [
    "songs.loc['john']"
   ]
  },
  {
   "cell_type": "markdown",
   "id": "7e375292-ef8e-4870-a8fe-4c773086d9fb",
   "metadata": {},
   "source": [
    "`iloc` deals with index numbers:"
   ]
  },
  {
   "cell_type": "code",
   "execution_count": 8,
   "id": "9c5f4e99-1773-4aa7-ad6f-705176680ff4",
   "metadata": {
    "tags": []
   },
   "outputs": [
    {
     "data": {
      "text/plain": [
       "142"
      ]
     },
     "execution_count": 8,
     "metadata": {},
     "output_type": "execute_result"
    }
   ],
   "source": [
    "songs.iloc[1]"
   ]
  },
  {
   "cell_type": "markdown",
   "id": "7733d1c0-e3b1-4629-a112-2b8fa4204046",
   "metadata": {},
   "source": [
    "### 1.2 Working with Cython"
   ]
  },
  {
   "cell_type": "markdown",
   "id": "1813562b-f336-45ba-9780-7fd08bae8239",
   "metadata": {},
   "source": [
    "You can install Cython support as follows: `pip install Cython`"
   ]
  },
  {
   "cell_type": "code",
   "execution_count": 9,
   "id": "4d1326f5-806c-460b-bb41-80bf82a4ce7e",
   "metadata": {
    "tags": []
   },
   "outputs": [],
   "source": [
    "%reload_ext Cython"
   ]
  },
  {
   "cell_type": "markdown",
   "id": "59964185-45f7-401d-871e-f3eadd924b2b",
   "metadata": {},
   "source": [
    "Now let's use it:"
   ]
  },
  {
   "cell_type": "code",
   "execution_count": 10,
   "id": "de999574-b89c-4978-a4c9-280c601855ca",
   "metadata": {
    "tags": []
   },
   "outputs": [],
   "source": [
    "%%cython\n",
    "import random\n",
    "def between_cy(row):\n",
    "    return random.randint(*row.values)"
   ]
  },
  {
   "cell_type": "code",
   "execution_count": 11,
   "id": "88be5382-9f11-47ec-8d93-28f6f033702f",
   "metadata": {
    "tags": []
   },
   "outputs": [],
   "source": [
    "ages = pd.Series(['0-10', '11-20', '21-30', '31-40'])"
   ]
  },
  {
   "cell_type": "code",
   "execution_count": 12,
   "id": "006d732a-6979-440d-9183-06079724544f",
   "metadata": {
    "tags": []
   },
   "outputs": [
    {
     "data": {
      "text/plain": [
<<<<<<< HEAD
       "0     5\n",
       "1    13\n",
       "2    24\n",
       "3    36\n",
=======
       "0     9\n",
       "1    13\n",
       "2    22\n",
       "3    31\n",
>>>>>>> 2746b21 (Updated pandas notebooks)
       "dtype: int64"
      ]
     },
     "execution_count": 12,
     "metadata": {},
     "output_type": "execute_result"
    }
   ],
   "source": [
    "(ages\n",
    "    .str.split('-', expand=True)\n",
    "    .astype(int)\n",
    "    .apply(between_cy, axis='columns'))"
   ]
  },
  {
   "cell_type": "markdown",
   "id": "da87e4cc-5bde-459c-8457-c784e4a951d9",
   "metadata": {
    "tags": []
   },
   "source": [
    "string operations are not vectorised.  Take a slow path through Python not SIDM on the CPU.  Therefore ok to use `apply` on strings."
   ]
  },
  {
   "cell_type": "markdown",
   "id": "6ff2bcbc-b01a-42d0-8e64-f03c21c090d6",
   "metadata": {},
   "source": [
    "### 1.3 Dates and Times"
   ]
  },
  {
   "cell_type": "markdown",
   "id": "7f01c0aa-a5be-42ba-9657-82148a44f9e6",
   "metadata": {},
   "source": [
    "Store dates locally in UTC time which is unambiguous and convert on boundary:"
   ]
  },
  {
   "cell_type": "code",
   "execution_count": 13,
   "id": "5bdc151a-0155-4b5b-9c7a-aefda7f401d0",
   "metadata": {
    "tags": []
   },
   "outputs": [],
   "source": [
    "dates = pd.Series(['2023-12-24 15:00:00+00:00','2023-12-24 16:00:00+00:00','2023-12-24 17:00:00+00:00'])"
   ]
  },
  {
   "cell_type": "code",
   "execution_count": 14,
   "id": "b509605a-d89a-40a8-9ee9-e2c6ed74cc0f",
   "metadata": {
    "tags": []
   },
   "outputs": [
    {
     "data": {
      "text/plain": [
       "0    2023-12-24 15:00:00+00:00\n",
       "1    2023-12-24 16:00:00+00:00\n",
       "2    2023-12-24 17:00:00+00:00\n",
       "dtype: object"
      ]
     },
     "execution_count": 14,
     "metadata": {},
     "output_type": "execute_result"
    }
   ],
   "source": [
    "dates"
   ]
  },
  {
   "cell_type": "markdown",
   "id": "da7c0b4b-b933-4ad7-977f-833b67f09ce6",
   "metadata": {
    "tags": []
   },
   "source": [
    "To save it in UTC:"
   ]
  },
  {
   "cell_type": "code",
   "execution_count": 15,
   "id": "6df91977-40e8-43d4-b318-84d1bbeabcfa",
   "metadata": {
    "tags": []
   },
   "outputs": [
    {
     "data": {
      "text/plain": [
       "0   2023-12-24 15:00:00+00:00\n",
       "1   2023-12-24 16:00:00+00:00\n",
       "2   2023-12-24 17:00:00+00:00\n",
       "dtype: datetime64[ns, UTC]"
      ]
     },
     "execution_count": 15,
     "metadata": {},
     "output_type": "execute_result"
    }
   ],
   "source": [
    "udates = pd.to_datetime(dates, utc=True)\n",
    "udates"
   ]
  },
  {
   "cell_type": "markdown",
   "id": "536a83de-f88c-462e-b06e-0997183aa67d",
   "metadata": {},
   "source": [
    "See [here](https://en.wikipedia.org/wiki/List_of_tz_database_time_zones) for timezone names. Convert to Europe/London timezone:"
   ]
  },
  {
   "cell_type": "code",
   "execution_count": 16,
   "id": "92f1a023-a1fa-45f6-bdda-59875da99c3b",
   "metadata": {
    "tags": []
   },
   "outputs": [
    {
     "data": {
      "text/plain": [
       "0   2023-12-24 10:00:00-05:00\n",
       "1   2023-12-24 11:00:00-05:00\n",
       "2   2023-12-24 12:00:00-05:00\n",
       "dtype: datetime64[ns, America/New_York]"
      ]
     },
     "execution_count": 16,
     "metadata": {},
     "output_type": "execute_result"
    }
   ],
   "source": [
    "udates.dt.tz_convert('America/New_York')"
   ]
  },
  {
   "cell_type": "markdown",
   "id": "78358dc2-cb55-4558-92d1-c6a573ca9655",
   "metadata": {},
   "source": [
    "Dates in the index allow you to do some special things.  Here we create a `Series` called `snow`:"
   ]
  },
  {
   "cell_type": "code",
   "execution_count": 17,
   "id": "bb49cc97-2360-45f5-aea1-ecd3f6db2034",
   "metadata": {
    "tags": []
   },
   "outputs": [],
   "source": [
    "url = 'https://github.com/mattharrison/datasets/raw/master/data/alta-noaa-1980-2019.csv'\n",
    "alta_df = pd.read_csv(url)\n",
    "dates = pd.to_datetime(alta_df.DATE)\n",
    "snow = alta_df.SNOW.rename(dates)"
   ]
  },
  {
   "cell_type": "code",
   "execution_count": 18,
   "id": "c0536a9b-1092-4daa-9067-b90ceff68b71",
   "metadata": {
    "tags": []
   },
   "outputs": [
    {
     "data": {
      "text/plain": [
       "1980-01-01    2.0\n",
       "1980-01-02    3.0\n",
       "1980-01-03    1.0\n",
       "1980-01-04    0.0\n",
       "1980-01-05    0.0\n",
       "             ... \n",
       "2019-09-03    0.0\n",
       "2019-09-04    0.0\n",
       "2019-09-05    0.0\n",
       "2019-09-06    0.0\n",
       "2019-09-07    0.0\n",
       "Name: SNOW, Length: 14160, dtype: float64"
      ]
     },
     "execution_count": 18,
     "metadata": {},
     "output_type": "execute_result"
    }
   ],
   "source": [
    "snow"
   ]
  },
  {
   "cell_type": "markdown",
   "id": "1aa70f78-e2cf-4063-bb9a-15a52d3fc028",
   "metadata": {},
   "source": [
    "365 of these values are missing data:"
   ]
  },
  {
   "cell_type": "code",
   "execution_count": 19,
   "id": "f61c995b-91f2-453f-a121-63ad13a0042e",
   "metadata": {
    "tags": []
   },
   "outputs": [
    {
     "data": {
      "text/plain": [
       "1985-07-30   NaN\n",
       "1985-09-12   NaN\n",
       "1985-09-19   NaN\n",
       "1986-02-07   NaN\n",
       "1986-06-26   NaN\n",
       "              ..\n",
       "2017-04-26   NaN\n",
       "2017-09-20   NaN\n",
       "2017-10-02   NaN\n",
       "2017-12-23   NaN\n",
       "2018-12-03   NaN\n",
       "Name: SNOW, Length: 365, dtype: float64"
      ]
     },
     "execution_count": 19,
     "metadata": {},
     "output_type": "execute_result"
    }
   ],
   "source": [
    "snow[snow.isna()]"
   ]
  },
  {
   "cell_type": "markdown",
   "id": "6a0d5a22-d427-47ec-b301-1753c69bc972",
   "metadata": {},
   "source": [
    "Interpolate for winter values and set summer values 0:"
   ]
  },
  {
   "cell_type": "code",
   "execution_count": 20,
   "id": "f60eb294-ee39-44d1-9248-ac4068257cff",
   "metadata": {
    "tags": []
   },
   "outputs": [
    {
     "data": {
      "text/plain": [
       "Series([], Name: SNOW, dtype: float64)"
      ]
     },
     "execution_count": 20,
     "metadata": {},
     "output_type": "execute_result"
    }
   ],
   "source": [
    "winter = (snow.index.quarter == 1) | (snow.index.quarter ==4)\n",
    "nsnow = (snow\n",
    "     .where(~(winter & snow.isna()), snow.interpolate())\n",
    "     .where(~(~winter & snow.isna()), 0))\n",
    "nsnow[nsnow.isna()]"
   ]
  },
  {
   "cell_type": "markdown",
   "id": "e35ebb19-97a1-4abf-aae3-8008ed5e6936",
   "metadata": {},
   "source": [
    "Rolling average:"
   ]
  },
  {
   "cell_type": "code",
   "execution_count": 21,
   "id": "c670b74e-a117-48ea-ab88-eb106c70198d",
   "metadata": {
    "tags": []
   },
   "outputs": [
    {
     "data": {
      "text/plain": [
       "1980-01-01    NaN\n",
       "1980-01-02    NaN\n",
       "1980-01-03    NaN\n",
       "1980-01-04    NaN\n",
       "1980-01-05    1.2\n",
       "             ... \n",
       "2019-09-03    0.0\n",
       "2019-09-04    0.0\n",
       "2019-09-05    0.0\n",
       "2019-09-06    0.0\n",
       "2019-09-07    0.0\n",
       "Name: SNOW, Length: 14160, dtype: float64"
      ]
     },
     "execution_count": 21,
     "metadata": {},
     "output_type": "execute_result"
    }
   ],
   "source": [
    "(snow\n",
    "     .rolling(5)\n",
    "     .mean())"
   ]
  },
  {
   "cell_type": "markdown",
   "id": "c98ad042-207a-4a09-bf90-29a702904d82",
   "metadata": {},
   "source": [
    "Resample to find maximum snowfall by month.  Note the `M` is going to be deprecated in a future version and we should use `ME` instead:"
   ]
  },
  {
   "cell_type": "code",
   "execution_count": 22,
   "id": "1d9aaf3f-9f44-4b35-aa61-330371bfcf3f",
   "metadata": {
    "tags": []
   },
   "outputs": [
    {
     "data": {
      "text/plain": [
       "1980-01-31    20.0\n",
       "1980-02-29    25.0\n",
       "1980-03-31    16.0\n",
       "1980-04-30    10.0\n",
       "1980-05-31     9.0\n",
       "              ... \n",
       "2019-05-31     5.1\n",
       "2019-06-30     0.0\n",
       "2019-07-31     0.0\n",
       "2019-08-31     0.0\n",
       "2019-09-30     0.0\n",
       "Freq: ME, Name: SNOW, Length: 477, dtype: float64"
      ]
     },
     "execution_count": 22,
     "metadata": {},
     "output_type": "execute_result"
    }
   ],
   "source": [
    "(snow\n",
    "     .resample('ME')\n",
    "     .max())"
   ]
  },
  {
   "cell_type": "markdown",
   "id": "a4b59808-af7d-4b00-b44d-223671125bf5",
   "metadata": {},
   "source": [
    "### 1.4 Plotting Series"
   ]
  },
  {
   "cell_type": "code",
   "execution_count": 23,
   "id": "34f81e71-6836-4c72-9293-549b4c1492eb",
   "metadata": {
    "tags": []
   },
   "outputs": [
    {
     "data": {
      "image/png": "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",
      "text/plain": [
       "<Figure size 640x480 with 1 Axes>"
      ]
     },
     "metadata": {},
     "output_type": "display_data"
    }
   ],
   "source": [
    "_ = snow[snow > 0].plot.hist(bins=20, title='Snowfall Histogram (in)')"
   ]
  },
  {
   "cell_type": "code",
   "execution_count": 24,
   "id": "be53d18e-5727-440a-99b9-d48a13052cea",
   "metadata": {
    "tags": []
   },
   "outputs": [
    {
     "data": {
      "image/png": "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",
      "text/plain": [
       "<Figure size 640x480 with 1 Axes>"
      ]
     },
     "metadata": {},
     "output_type": "display_data"
    }
   ],
   "source": [
    "_ = (snow\n",
    "     .resample('ME')\n",
    "     .mean()\n",
    "     .plot.line()\n",
    ")"
   ]
  },
  {
   "cell_type": "code",
   "execution_count": 25,
   "id": "5200ef6c-e710-4a8d-a587-747143c289e1",
   "metadata": {
    "tags": []
   },
   "outputs": [
    {
     "data": {
      "image/png": "iVBORw0KGgoAAAANSUhEUgAAAh8AAAHtCAYAAAC57xxeAAAAOXRFWHRTb2Z0d2FyZQBNYXRwbG90bGliIHZlcnNpb24zLjguMiwgaHR0cHM6Ly9tYXRwbG90bGliLm9yZy8g+/7EAAAACXBIWXMAAA9hAAAPYQGoP6dpAABGgUlEQVR4nO3dd3RU1f7+8WcSSKEkGCCEaIRQpYNwkd4voQhSVJpSRL0gghpA4AvSREBEBAGBq0AUpTc7SFE6SgelSBWQooQSaoBk//7gl7kMCSWYOYfMvF9rzVpknzNzPicZkmf22WdvhzHGCAAAwCI+dhcAAAC8C+EDAABYivABAAAsRfgAAACWInwAAABLET4AAIClCB8AAMBShA8AAGApwgcAALAU4QNez+Fw6NVXX73rfjExMXI4HDp06JD7i3oATZs2TY899pgyZsyobNmypeq57du3V968eV3aHA6HBg4ceMfnHTp0SA6HQzExMak6HoAHG+EDbpP0x9rhcGj16tXJthtjFBERIYfDoSeffNKttaxdu1YDBw7U2bNn3XocT7V79261b99e+fPn18cff6z//ve/dpd0XxITExUTE6PGjRsrIiJCmTNnVvHixTVkyBBduXIlxedMnjxZRYoUUUBAgAoWLKixY8cm22fPnj164403VKlSJQUEBNw2pP7000/O/xMpPd555520PmXggZTB7gLg+QICAjR9+nRVqVLFpX3FihU6evSo/P393V7D2rVrNWjQILVv3z7Vn9px449mYmKixowZowIFClh23Dx58ujy5cvKmDFjmrzepUuX1KFDB1WoUEGdOnVSaGio1q1bpwEDBmjZsmVavny5HA6Hc/9JkyapU6dOat68uaKjo7Vq1Sp169ZNly5dUq9evZz7rVu3Th9++KGKFi2qIkWKaOvWrSkev0iRIpo2bVqy9mnTpumHH35Q3bp10+Q8gQcd4QNu16BBA82ZM0cffvihMmT431tu+vTpKlu2rE6dOmVjdbgXf/31lyRZHtwcDocCAgLS7PX8/Py0Zs0aVapUydn20ksvKW/evM4AUqdOHUnS5cuX1bdvXzVs2FBz58517puYmKi3335bL7/8sh566CFJUuPGjXX27FllzZpVI0eOvG34yJUrl5577rlk7YMGDVLBggX1r3/9K83OFXiQcdkFbteqVSvFxsZqyZIlzrarV69q7ty5at26dYrPuXjxorp3766IiAj5+/urcOHCGjlypG5dhDlpvMbChQtVvHhx+fv7q1ixYlq0aJFzn4EDB6pnz56SpMjISGcX963d4nd6jZS0a9dOOXLk0LVr15Jtq1u3rgoXLnzH5+/du1fNmzdXWFiYAgIC9Mgjj6hly5Y6d+5cqs4vyZYtW1S/fn0FBQUpS5Ysql27ttavX+/cfvbsWfn6+urDDz90tp06dUo+Pj7Knj27y/e2c+fOCgsLkyTnH2ZJypkzp8tYjS+//FINGzZUeHi4/P39lT9/fr399ttKSEi447nfq5TGfLRv315ZsmTRn3/+qSZNmihLlizKmTOnevTocdfj+vn5uQSPJE2bNpUk7dq1y9n2448/KjY2Vq+88orLvl26dNHFixf17bffOttCQkKUNWvW+zlF/fLLL9q3b5/atGlz132vXbvmDCoBAQHKnj27qlSp4vJ/S7pxmezpp59WSEiIAgICVK5cOX311Vcu+5w+fVo9evRQiRIllCVLFgUFBal+/fratm1bsuOOHTtWxYoVU6ZMmfTQQw+pXLlymj59uss+d3v/Sf+7FLtmzRpFR0crZ86cypw5s5o2baq///77Xr9l8ACED7hd3rx5VbFiRc2YMcPZ9v333+vcuXNq2bJlsv2NMWrcuLE++OAD1atXT6NGjVLhwoXVs2dPRUdHJ9t/9erVeuWVV9SyZUuNGDFCV65cUfPmzRUbGytJatasmVq1aiVJ+uCDDzRt2jRNmzZNOXPmvOfXSMnzzz+v2NhYLV682KX9xIkTWr58eYqfcJNcvXpVUVFRWr9+vbp27arx48fr5Zdf1oEDB5KNS7mX2n777TdVrVpV27Zt05tvvqm33npLBw8eVI0aNfTzzz9LutFrUbx4ca1cudLltR0Oh06fPq2dO3c621etWqWqVatKkkaPHu384zxhwgRNmzZNzZo1k3Tjj0mWLFkUHR2tMWPGqGzZsurfv7969+5923NPCwkJCYqKilL27Nk1cuRIVa9eXe+///59j0U5ceKEJClHjhzOti1btkiSypUr57Jv2bJl5ePj49z+T33xxReSdE/hY+DAgRo0aJBq1qypcePGqW/fvnr00Ue1efNm5z6//fabKlSooF27dql37956//33lTlzZjVp0kQLFixw7nfgwAEtXLhQTz75pEaNGqWePXtqx44dql69uo4dO+bc7+OPP1a3bt1UtGhRjR49WoMGDVLp0qWd76ukY97t/Xezrl27atu2bRowYIA6d+6sr7/++p4GfcODGMBNpk6daiSZDRs2mHHjxpmsWbOaS5cuGWOMeeaZZ0zNmjWNMcbkyZPHNGzY0Pm8hQsXGklmyJAhLq/39NNPG4fDYfbt2+dsk2T8/Pxc2rZt22YkmbFjxzrb3nvvPSPJHDx4MFmd9/oaSeeT9BoJCQnmkUceMS1atHB5vVGjRhmHw2EOHDhw2+/Nli1bjCQzZ86c2+6TmtqaNGli/Pz8zP79+51tx44dM1mzZjXVqlVztnXp0sXkypXL+XV0dLSpVq2aCQ0NNRMmTDDGGBMbG2scDocZM2aMc78BAwYYSebvv/92qS/p53mz//znPyZTpkzmypUrzrZ27dqZPHnyJDu3AQMG3PH8Dx48aCSZqVOnuryWJDN48GCXfcuUKWPKli17x9e7nTp16pigoCBz5swZZ1uXLl2Mr69vivvnzJnTtGzZMsVtd3qv3er69esmV65cpnz58vdUZ6lSpVz+r6Skdu3apkSJEi7f/8TERFOpUiVTsGBBZ9uVK1dMQkKCy3MPHjxo/P39Xb63Tz31lClWrNgdj3mv77+k/0N16tQxiYmJzvY33njD+Pr6mrNnz97xOPAc9HzAEs8++6wuX76sb775RufPn9c333xz20su3333nXx9fdWtWzeX9u7du8sYo++//96lvU6dOsqfP7/z65IlSyooKEgHDhy45/ru5zV8fHzUpk0bffXVVzp//ryz/YsvvlClSpUUGRl52+cGBwdLkhYvXqxLly79o9oSEhL0ww8/qEmTJsqXL59zv9y5c6t169ZavXq14uLiJElVq1bVyZMntWfPHkk3ejiqVaumqlWratWqVZJu9IYYY5w9H3cSGBjo/Pf58+d16tQpVa1aVZcuXdLu3bvv+vx/olOnTi5fV61aNVU/8yRDhw7V0qVLNXz4cJcxLZcvX5afn1+KzwkICNDly5dTfaxbLVu2TCdPnrynXg/pRu/Vb7/9pr1796a4/fTp01q+fLmeffZZ58/j1KlTio2NVVRUlPbu3as///xTkuTv7y8fnxt/AhISEhQbG6ssWbKocOHCLj0p2bJl09GjR7Vhw4YUj5ma91+Sl19+2WVgb9WqVZWQkKA//vjjnr4PSP8IH7BEzpw5VadOHU2fPl3z589XQkKCnn766RT3/eOPPxQeHp7sGnqRIkWc22/26KOPJnuNhx56SGfOnLnn+u73Ndq2bavLly87u7P37NmjTZs26fnnn7/j8yIjIxUdHa1PPvlEOXLkUFRUlMaPH+8y3uNea/v777916dKlFMeYFClSRImJiTpy5IgkOQPFqlWrdPHiRW3ZskVVq1ZVtWrVnOFj1apVCgoKUqlSpe54DtKN7vamTZsqODhYQUFBypkzp/NyU0rnklYCAgJcLptJqf+ZS9KsWbPUr18/dezYUZ07d3bZFhgYqKtXr6b4vCtXrrgEr/v1xRdfyNfXVy1atLin/QcPHqyzZ8+qUKFCKlGihHr27Knt27c7t+/bt0/GGL311lvKmTOnyyNp3E7S4OHExER98MEHKliwoPz9/ZUjRw7lzJlT27dvd/nZ9erVS1myZFH58uVVsGBBdenSRWvWrHFuT837L8mt7+mkgbup/fkh/SJ8wDKtW7fW999/r4kTJ6p+/fppdueEr69viu3mlsGp7niNokWLqmzZsvr8888lSZ9//rn8/Pz07LPP3vWY77//vrZv367/+7//0+XLl9WtWzcVK1ZMR48eTZPaUhIeHq7IyEitXLlS69atkzFGFStWVNWqVXXkyBH98ccfWrVqlSpVquT8VHw7Z8+eVfXq1bVt2zYNHjxYX3/9tZYsWaJ3331X0o0/bu5yu+9JaixZskRt27ZVw4YNNXHixGTbc+fOrYSEBOcf6yRXr15VbGyswsPD/9Hxk0JrnTp1lCtXrnt6TrVq1bR//35NmTJFxYsX1yeffKLHH39cn3zyiaT/fc979OihJUuWpPhIulV66NChio6OVrVq1fT5559r8eLFWrJkiYoVK+bysytSpIj27NmjmTNnqkqVKpo3b56qVKniDDP3Iy3f00ifuNUWlmnatKn+85//aP369Zo1a9Zt98uTJ4+WLl2q8+fPu/R+JHXj58mTJ9XHvrmLN621bdtW0dHROn78uKZPn66GDRs6P8ndTYkSJVSiRAn169dPa9euVeXKlTVx4kQNGTLkno+fM2dOZcqUyXkp5Wa7d++Wj4+PIiIinG1Vq1bVypUrFRkZqdKlSytr1qwqVaqUgoODtWjRIm3evFmDBg2663F/+uknxcbGav78+apWrZqz/eDBg/dcu11+/vlnNW3aVOXKldPs2bNdbgFPUrp0aUnSxo0b1aBBA2f7xo0blZiY6Nx+v5Iu193rJZckISEh6tChgzp06KALFy6oWrVqGjhwoF588UXnZY+MGTM6bxm+nblz56pmzZqaPHmyS/vZs2ddBt5KUubMmdWiRQu1aNFCV69eVbNmzfTOO++oT58+qX7/ARI9H7BQlixZNGHCBA0cOFCNGjW67X4NGjRQQkKCxo0b59L+wQcfyOFwqH79+qk+dubMmSXJLTOctmrVSg6HQ6+99poOHDhwx7tcksTFxen69esubSVKlJCPj4/i4+NTdXxfX1/VrVtXX375pcvtwydPnnRO7hYUFORsr1q1qg4dOqRZs2Y5L8P4+PioUqVKGjVqlK5du3ZP4z2SPr3e/Gn16tWr+uijj1JVv9V27dqlhg0bKm/evPrmm29ue/mkVq1aCgkJ0YQJE1zaJ0yYoEyZMqlhw4b/qI7p06crU6ZMzjuJ7sWtd19lyZJFBQoUcL5nQkNDVaNGDU2aNEnHjx9P9vybb2f19fVN1tMwZ84c55iQ2x3Tz89PRYsWlTFG165dS/X7D5Do+YDF2rVrd9d9GjVqpJo1a6pv3746dOiQSpUqpR9++EFffvmlXn/9dZfBl/eqbNmykqS+ffuqZcuWypgxoxo1auQMJf9Ezpw5Va9ePc2ZM0fZsmW7pz9Ky5cv16uvvqpnnnlGhQoV0vXr1zVt2jT5+vqqefPmqa5hyJAhWrJkiapUqaJXXnlFGTJk0KRJkxQfH68RI0a47JsULPbs2aOhQ4c626tVq6bvv/9e/v7+9zTZVaVKlfTQQw+pXbt26tatmxwOh6ZNm/ZAd52fP39eUVFROnPmjHr27OkyV4ck5c+fXxUrVpR0Y8zH22+/rS5duuiZZ55RVFSUVq1apc8//1zvvPOOQkJCnM87d+6cc9r1pPEQ48aNU7Zs2ZQtW7Zkt5GePn1a33//vZo3b64sWbLcc/1FixZVjRo1VLZsWYWEhGjjxo2aO3euy+uPHz9eVapUUYkSJfTSSy8pX758OnnypNatW6ejR4865/F48sknNXjwYHXo0EGVKlXSjh079MUXX7gMGpVuzFkTFhamypUrK1euXNq1a5fGjRunhg0bOnsmU/P+AyRxqy3c5+Zbbe/k1lttjTHm/Pnz5o033jDh4eEmY8aMpmDBgua9995zuT3PmBu3a3bp0iXF12zXrp1L29tvv20efvhh4+Pj43Ir5L2+xq232t5s9uzZRpJ5+eWX73iuSQ4cOGBeeOEFkz9/fhMQEGBCQkJMzZo1zdKlS+/7/DZv3myioqJMlixZTKZMmUzNmjXN2rVrUzx+aGiokWROnjzpbFu9erWRZKpWrZps/9vdartmzRpToUIFExgYaMLDw82bb75pFi9ebCSZH3/80blfWt9qmzlz5tvWeC+vd7vHrd9TY4z573//awoXLmz8/PxM/vz5zQcffJDsfXin1731vI0xZuLEiUaS+eqrr+5Y762GDBliypcvb7Jly2YCAwPNY489Zt555x1z9epVl/32799v2rZta8LCwkzGjBnNww8/bJ588kkzd+5c5z5Xrlwx3bt3N7lz5zaBgYGmcuXKZt26daZ69eqmevXqzv0mTZpkqlWrZrJnz278/f1N/vz5Tc+ePc25c+dcjnkv77/b/U748ccfk71n4NkcxjzAH1OAdOLLL79UkyZNtHLlynu6ZAEA3ozwAaSBJ598Urt27dK+ffvcOrgVADwBYz6Af2DmzJnavn27vv32W40ZM4bgAQD3gJ4P4B9wOBzKkiWLWrRooYkTJ6Z4yyYAwBW/KYF/gOwOAKnHPB8AAMBSD1zPR2Jioo4dO6asWbNy/RwAgHTCGKPz588rPDz8rsszPHDh49ixY0zFCwBAOnXkyBE98sgjd9zngQsfSTPmHTlyhCl5AQBIJ+Li4hQREZFsRfKUPHDhI+lSS1BQEOEDAIB05l6GTDDgFAAAWIrwAQAALEX4AAAAliJ8AAAASxE+AACApQgfAADAUoQPAABgKcIHAACwFOEDAABYivABAAAsRfgAAACWInwAAABLET4AAIClCB8AAMBShA8AAGCpDHYXAOD+5O39rW3HPjS8oW3HBpD+0fMBAAAsRfgAAACWSlX4GDZsmP71r38pa9asCg0NVZMmTbRnzx6XfWrUqCGHw+Hy6NSpU5oWDQAA0q9UhY8VK1aoS5cuWr9+vZYsWaJr166pbt26unjxost+L730ko4fP+58jBgxIk2LBgAA6VeqBpwuWrTI5euYmBiFhoZq06ZNqlatmrM9U6ZMCgsLS5sKAQCAR/lHYz7OnTsnSQoJCXFp/+KLL5QjRw4VL15cffr00aVLl277GvHx8YqLi3N5AAAAz3Xft9omJibq9ddfV+XKlVW8eHFne+vWrZUnTx6Fh4dr+/bt6tWrl/bs2aP58+en+DrDhg3ToEGD7rcMAACQzjiMMeZ+nti5c2d9//33Wr16tR555JHb7rd8+XLVrl1b+/btU/78+ZNtj4+PV3x8vPPruLg4RURE6Ny5cwoKCrqf0gCvwDwfAB4kcXFxCg4Ovqe/3/fV8/Hqq6/qm2++0cqVK+8YPCTpiSeekKTbhg9/f3/5+/vfTxkAACAdSlX4MMaoa9euWrBggX766SdFRkbe9Tlbt26VJOXOnfu+CgQAAJ4lVeGjS5cumj59ur788ktlzZpVJ06ckCQFBwcrMDBQ+/fv1/Tp09WgQQNlz55d27dv1xtvvKFq1aqpZMmSbjkBAACQvqQqfEyYMEHSjYnEbjZ16lS1b99efn5+Wrp0qUaPHq2LFy8qIiJCzZs3V79+/dKsYAAAkL6l+rLLnURERGjFihX/qCAAAODZWNsFAABYivABAAAsRfgAAACWInwAAABLET4AAIClCB8AAMBShA8AAGApwgcAALAU4QMAAFiK8AEAACxF+AAAAJYifAAAAEsRPgAAgKUIHwAAwFKEDwAAYCnCBwAAsBThAwAAWIrwAQAALEX4AAAAliJ8AAAASxE+AACApQgfAADAUoQPAABgKcIHAACwFOEDAABYivABAAAsRfgAAACWInwAAABLET4AAIClCB8AAMBShA8AAGApwgcAALAU4QMAAFiK8AEAACxF+AAAAJYifAAAAEsRPgAAgKUIHwAAwFKEDwAAYCnCBwAAsBThAwAAWIrwAQAALEX4AAAAliJ8AAAASxE+AACApQgfAADAUoQPAABgqQx2FwAAqZG397e2HfvQ8Ia2HRvwJPR8AAAASxE+AACApQgfAADAUoQPAABgKcIHAACwFOEDAABYivABAAAsRfgAAACWInwAAABLET4AAIClUhU+hg0bpn/961/KmjWrQkND1aRJE+3Zs8dlnytXrqhLly7Knj27smTJoubNm+vkyZNpWjQAAEi/UhU+VqxYoS5dumj9+vVasmSJrl27prp16+rixYvOfd544w19/fXXmjNnjlasWKFjx46pWbNmaV44AABIn1K1sNyiRYtcvo6JiVFoaKg2bdqkatWq6dy5c5o8ebKmT5+uWrVqSZKmTp2qIkWKaP369apQoULaVQ4AANKlfzTm49y5c5KkkJAQSdKmTZt07do11alTx7nPY489pkcffVTr1q1L8TXi4+MVFxfn8gAAAJ7rvsNHYmKiXn/9dVWuXFnFixeXJJ04cUJ+fn7Kli2by765cuXSiRMnUnydYcOGKTg42PmIiIi435IAAEA6cN/ho0uXLvr11181c+bMf1RAnz59dO7cOefjyJEj/+j1AADAgy1VYz6SvPrqq/rmm2+0cuVKPfLII872sLAwXb16VWfPnnXp/Th58qTCwsJSfC1/f3/5+/vfTxkAACAdSlXPhzFGr776qhYsWKDly5crMjLSZXvZsmWVMWNGLVu2zNm2Z88eHT58WBUrVkybigEAQLqWqp6PLl26aPr06fryyy+VNWtW5ziO4OBgBQYGKjg4WB07dlR0dLRCQkIUFBSkrl27qmLFitzpAgAAJKUyfEyYMEGSVKNGDZf2qVOnqn379pKkDz74QD4+PmrevLni4+MVFRWljz76KE2KBQAA6V+qwocx5q77BAQEaPz48Ro/fvx9FwUAADwXa7sAAABLET4AAIClCB8AAMBShA8AAGApwgcAALAU4QMAAFiK8AEAACxF+AAAAJYifAAAAEsRPgAAgKUIHwAAwFKEDwAAYCnCBwAAsBThAwAAWIrwAQAALEX4AAAAliJ8AAAASxE+AACApQgfAADAUoQPAABgKcIHAACwFOEDAABYivABAAAsRfgAAACWInwAAABLET4AAIClCB8AAMBShA8AAGApwgcAALAU4QMAAFiK8AEAACxF+AAAAJYifAAAAEsRPgAAgKUIHwAAwFKEDwAAYCnCBwAAsBThAwAAWIrwAQAALEX4AAAAliJ8AAAASxE+AACApQgfAADAUoQPAABgKcIHAACwFOEDAABYivABAAAsRfgAAACWInwAAABLET4AAIClCB8AAMBShA8AAGCpDHYXAPxTeXt/a9uxDw1vaNuxASC9oucDAABYivABAAAsRfgAAACWInwAAABLET4AAIClUh0+Vq5cqUaNGik8PFwOh0MLFy502d6+fXs5HA6XR7169dKqXgAAkM6lOnxcvHhRpUqV0vjx42+7T7169XT8+HHnY8aMGf+oSAAA4DlSPc9H/fr1Vb9+/Tvu4+/vr7CwsPsuCgAAeC63jPn46aefFBoaqsKFC6tz586KjY297b7x8fGKi4tzeQAAAM+V5uGjXr16+uyzz7Rs2TK9++67WrFiherXr6+EhIQU9x82bJiCg4Odj4iIiLQuCQAAPEDSfHr1li1bOv9dokQJlSxZUvnz59dPP/2k2rVrJ9u/T58+io6Odn4dFxdHAAEAwIO5/VbbfPnyKUeOHNq3b1+K2/39/RUUFOTyAAAAnsvtC8sdPXpUsbGxyp07t7sPBQDwMCwc6ZlSHT4uXLjg0otx8OBBbd26VSEhIQoJCdGgQYPUvHlzhYWFaf/+/XrzzTdVoEABRUVFpWnhAAAgfUp1+Ni4caNq1qzp/DppvEa7du00YcIEbd++XZ9++qnOnj2r8PBw1a1bV2+//bb8/f3TrmoAAJBupTp81KhRQ8aY225fvHjxPyoIAAB4NtZ2AQAAliJ8AAAASxE+AACApQgfAADAUoQPAABgKcIHAACwFOEDAABYivABAAAsRfgAAACWInwAAABLET4AAIClCB8AAMBShA8AAGApwgcAALAU4QMAAFiK8AEAACxF+AAAAJYifAAAAEsRPgAAgKUIHwAAwFKEDwAAYCnCBwAAsBThAwAAWIrwAQAALEX4AAAAliJ8AAAASxE+AACApQgfAADAUoQPAABgKcIHAACwFOEDAABYivABAAAsRfgAAACWInwAAABLET4AAIClCB8AAMBShA8AAGApwgcAALAU4QMAAFiK8AEAACxF+AAAAJYifAAAAEsRPgAAgKUIHwAAwFKEDwAAYCnCBwAAsBThAwAAWIrwAQAALEX4AAAAliJ8AAAASxE+AACApQgfAADAUoQPAABgKcIHAACwFOEDAABYivABAAAsRfgAAACWInwAAABLpTp8rFy5Uo0aNVJ4eLgcDocWLlzost0Yo/79+yt37twKDAxUnTp1tHfv3rSqFwAApHOpDh8XL15UqVKlNH78+BS3jxgxQh9++KEmTpyon3/+WZkzZ1ZUVJSuXLnyj4sFAADpX4bUPqF+/fqqX79+ituMMRo9erT69eunp556SpL02WefKVeuXFq4cKFatmz5z6oFAADpXpqO+Th48KBOnDihOnXqONuCg4P1xBNPaN26dSk+Jz4+XnFxcS4PAADgudI0fJw4cUKSlCtXLpf2XLlyObfdatiwYQoODnY+IiIi0rIkAADwgLH9bpc+ffro3LlzzseRI0fsLgkAALhRmoaPsLAwSdLJkydd2k+ePOncdit/f38FBQW5PAAAgOdK9YDTO4mMjFRYWJiWLVum0qVLS5Li4uL0888/q3Pnzml5KKQgb+9vbTv2oeENbTs2ACB9SXX4uHDhgvbt2+f8+uDBg9q6datCQkL06KOP6vXXX9eQIUNUsGBBRUZG6q233lJ4eLiaNGmSlnUDAIB0KtXhY+PGjapZs6bz6+joaElSu3btFBMTozfffFMXL17Uyy+/rLNnz6pKlSpatGiRAgIC0q5qAACQbqU6fNSoUUPGmNtudzgcGjx4sAYPHvyPCgMAAJ7J9rtdAACAdyF8AAAASxE+AACApdL0VlsAgHtwKz08CT0fAADAUoQPAABgKcIHAACwFOEDAABYivABAAAsRfgAAACWInwAAABLET4AAIClCB8AAMBShA8AAGApwgcAALAU4QMAAFiK8AEAACxF+AAAAJYifAAAAEsRPgAAgKUIHwAAwFKEDwAAYCnCBwAAsBThAwAAWIrwAQAALEX4AAAAliJ8AAAASxE+AACApQgfAADAUoQPAABgKcIHAACwFOEDAABYivABAAAsRfgAAACWInwAAABLET4AAIClCB8AAMBShA8AAGApwgcAALAU4QMAAFiK8AEAACxF+AAAAJYifAAAAEsRPgAAgKUIHwAAwFKEDwAAYCnCBwAAsBThAwAAWIrwAQAALEX4AAAAliJ8AAAASxE+AACApQgfAADAUoQPAABgKcIHAACwFOEDAABYivABAAAsRfgAAACWSvPwMXDgQDkcDpfHY489ltaHAQAA6VQGd7xosWLFtHTp0v8dJINbDgMAANIht6SCDBkyKCwszB0vDQAA0jm3jPnYu3evwsPDlS9fPrVp00aHDx++7b7x8fGKi4tzeQAAAM+V5uHjiSeeUExMjBYtWqQJEybo4MGDqlq1qs6fP5/i/sOGDVNwcLDzERERkdYlAQCAB0iah4/69evrmWeeUcmSJRUVFaXvvvtOZ8+e1ezZs1Pcv0+fPjp37pzzceTIkbQuCQAAPEDcPhI0W7ZsKlSokPbt25fidn9/f/n7+7u7DAAA8IBw+zwfFy5c0P79+5U7d253HwoAAKQDaR4+evTooRUrVujQoUNau3atmjZtKl9fX7Vq1SqtDwUAANKhNL/scvToUbVq1UqxsbHKmTOnqlSpovXr1ytnzpxpfSgAAJAOpXn4mDlzZlq/JAAA8CCs7QIAACxF+AAAAJYifAAAAEsRPgAAgKUIHwAAwFKEDwAAYCnCBwAAsBThAwAAWIrwAQAALEX4AAAAliJ8AAAASxE+AACApQgfAADAUoQPAABgKcIHAACwFOEDAABYivABAAAsRfgAAACWInwAAABLET4AAIClCB8AAMBShA8AAGApwgcAALAU4QMAAFiK8AEAACxF+AAAAJYifAAAAEsRPgAAgKUIHwAAwFKEDwAAYCnCBwAAsBThAwAAWCqD3QW4Q97e39p27EPDG9p2bAAA0gN6PgAAgKUIHwAAwFKEDwAAYCnCBwAAsJRHDjgFACA98/QbJ+j5AAAAliJ8AAAASxE+AACApQgfAADAUoQPAABgKcIHAACwFOEDAABYivABAAAsRfgAAACWInwAAABLET4AAIClCB8AAMBShA8AAGApwgcAALAU4QMAAFiK8AEAACxF+AAAAJYifAAAAEsRPgAAgKUIHwAAwFJuCx/jx49X3rx5FRAQoCeeeEK//PKLuw4FAADSEbeEj1mzZik6OloDBgzQ5s2bVapUKUVFRemvv/5yx+EAAEA64pbwMWrUKL300kvq0KGDihYtqokTJypTpkyaMmWKOw4HAADSkQxp/YJXr17Vpk2b1KdPH2ebj4+P6tSpo3Xr1iXbPz4+XvHx8c6vz507J0mKi4u77xoS4y/d93P/qX9S9z/FeVuP87Ye5209ztt66fG8k55njLn7ziaN/fnnn0aSWbt2rUt7z549Tfny5ZPtP2DAACOJBw8ePHjw4OEBjyNHjtw1K6R5z0dq9enTR9HR0c6vExMTdfr0aWXPnl0Oh8PSWuLi4hQREaEjR44oKCjI0mPbifPmvL0B5815ewM7z9sYo/Pnzys8PPyu+6Z5+MiRI4d8fX118uRJl/aTJ08qLCws2f7+/v7y9/d3acuWLVtal5UqQUFBXvVmTcJ5exfO27tw3t7FrvMODg6+p/3SfMCpn5+fypYtq2XLljnbEhMTtWzZMlWsWDGtDwcAANIZt1x2iY6OVrt27VSuXDmVL19eo0eP1sWLF9WhQwd3HA4AAKQjbgkfLVq00N9//63+/fvrxIkTKl26tBYtWqRcuXK543Bpxt/fXwMGDEh2GcjTcd6ctzfgvDlvb5BeztthzL3cEwMAAJA2WNsFAABYivABAAAsRfgAAACWInwAAABLET4AD3fgwAG7SwAAF14dPq5du6YXXnhBBw8etLsUwG0KFCigmjVr6vPPP9eVK1fsLgcAvDt8ZMyYUfPmzbO7DFskJCRo5cqVOnv2rN2lwM02b96skiVLKjo6WmFhYfrPf/6jX375xe6yLEPPD/Dg8fp5Ptq1a6fSpUvrjTfesLsUywUEBGjXrl2KjIy0uxTLXLt2TYGBgdq6dauKFy9udzmWun79ur766ivFxMRo0aJFKlSokF544QU9//zzypkzp93luY2Pj4+qV6+ujh076umnn1ZAQIDdJVnm7Nmz+uWXX/TXX38pMTHRZVvbtm1tqirt3Lwo6d2MGjXKjZXY78cff1TNmjXtLuOeeX34GDJkiN5//33Vrl1bZcuWVebMmV22d+vWzabK3K9cuXJ69913Vbt2bbtLsVS+fPm0YMEClSpVyu5SbBEfH6+PPvpIffr00dWrV+Xn56dnn31W7777rnLnzm13eWlu69atmjp1qmbMmKGrV6+qRYsW6tixo8qXL293aW719ddfq02bNrpw4YKCgoJcVgl3OBw6ffq0jdWljXv9Y+twOLR8+XI3V2Mvf39/PfLII+rQoYPatWuniIgIu0u6I68PH3f61O9wODy6y3bRokXq06eP3n777RSDl6euBDl58mTNnz9f06ZNU0hIiN3lWGbjxo2aMmWKZs6cqcyZM6tdu3bq2LGjjh49qkGDBikuLs6jL8d4W89PoUKF1KBBAw0dOlSZMmWyuxy42alTpzRt2jR9+umn+u2331SrVi117NhRTZo0kZ+fn93lJeP14cOb+fj8b8jPzZ+KjDFyOBxKSEiwoyy3K1OmjPbt26dr164pT548yULX5s2bbarMPUaNGqWpU6dqz549atCggV588UU1aNDA5ed/9OhR5c2bV9evX7exUmt4S89P5syZtWPHDuXLl8/uUmCxzZs3O3v7JKl169bq2LHjA9Xb65aF5dKjq1ev6uDBg8qfP78yZPCOb8uPP/5odwm2aNKkid0lWGrChAl64YUX1L59+9v+cQ0NDdXkyZMtrsxat/b89OjRw6Xn56mnnvKonp+oqCht3LjRo8NHs2bNFBMTo6CgIDVr1uyO+86fP9+iquz3+OOPKywsTNmzZ9fw4cM1ZcoUffTRR6pYsaImTpyoYsWK2V0i4ePSpUvq2rWrPv30U0nS77//rnz58qlr1656+OGH1bt3b5srdJ/q1avbXYItBgwYYHcJlrl+/bratGmj559//o6f6v38/NSuXTsLK7POrT0/n332mUvPT2RkpGJiYpQ3b157C00DX331lfPfDRs2VM+ePbVz506VKFFCGTNmdNm3cePGVpeX5oKDg529tsHBwTZXY79r167pyy+/1JQpU7RkyRKVK1dO48aNU6tWrfT333+rX79+euaZZ7Rz5067S5WMl+vWrZspW7asWbVqlcmcObPZv3+/McaYhQsXmtKlS9tcnfutXLnStGnTxlSsWNEcPXrUGGPMZ599ZlatWmVzZe515swZ8/HHH5vevXub2NhYY4wxmzZtcn4PPEmWLFnMwYMH7S7DNgUKFDBDhw41x44du+0+8fHxJiYmxsKq3MPhcNzTw8fHx+5S01RiYqL5448/zKVLl+wuxTavvvqqyZ49uwkJCTGvvfaa2bFjR7J9jh8/bhwOhw3VJefV83xI0sKFCzVu3DhVqVLFZdxDsWLFtH//fhsrc7958+YpKipKgYGB2rx5s+Lj4yVJ586d09ChQ22uzn22b9+uQoUK6d1339XIkSOdc53Mnz9fffr0sbc4N6hVq5ZWrFhhdxm28Laen8TExHt6eNp4LmOMChQooKNHj9pdim127typsWPH6tixYxo9enSKUwnkyJHjgbnc7vWXXf7++2+FhoYma7948aJLGPFEQ4YM0cSJE9W2bVvNnDnT2V65cmUNGTLExsrcKzo6Wu3bt9eIESOUNWtWZ3uDBg3UunVrGytzj/r166t3797asWNHinc1eUL3++1kyJBB77//vtq3b293KXAjHx8fFSxYULGxsSpYsKDd5dhi2bJld90nQ4YMD8zldq8PH+XKldO3336rrl27SvrfXR+ffPKJKlasaGdpbrdnzx5Vq1YtWXtwcLBHz3y6YcMGTZo0KVn7ww8/rBMnTthQkXu98sorklKeZMmT72pKktTz4wljOlKjW7duKlCgQLK5isaNG6d9+/Zp9OjR9hTmJsOHD1fPnj01YcIEr5tA8GY7d+7U4cOHdfXqVZf2B+1DhteHj6FDh6p+/frauXOnrl+/rjFjxmjnzp1au3atx3dVh4WFad++fcl+Ka9evdqjR8j7+/srLi4uWfvvv//ukfM93Dqzpbfx1p6fefPmuQxATVKpUiUNHz7c48JH27ZtdenSJZUqVUp+fn4KDAx02e4Jk6rdyYEDB9S0aVPt2LFDDodD5v/PopH0gfpB+5Dh9eGjSpUq2rp1q4YPH64SJUrohx9+0OOPP65169apRIkSdpfnVi+99JJee+01TZkyRQ6HQ8eOHdO6devUo0cPvfXWW3aX5zaNGzfW4MGDNXv2bEk3/nMePnxYvXr1UvPmzW2uDmnNW3t+YmNjU7wDJCgoSKdOnbKhIvfytDCVWq+99poiIyO1bNkyRUZG6pdfflFsbKy6d++ukSNH2l1eMkwy5sWMMRo6dKiGDRumS5cuSbrRK9CjRw+9/fbbNlfnPufOndPTTz+tjRs36vz58woPD9eJEydUsWJFfffdd8k+GXuCixcvasWKFSl2x3ryEgLerHjx4urUqZNeffVVl/axY8dqwoQJD8btlkgzOXLk0PLly1WyZEkFBwfrl19+UeHChbV8+XJ1795dW7ZssbtEF17f8yHd6I5asGCBdu3aJUkqWrSonnrqKY+fbMzhcKhv377q2bOn9u3bpwsXLqho0aLKkiWL3aW5VXBwsJYsWaLVq1dr+/btunDhgh5//HHVqVPH7tLcYsuWLWrQoIEuXbqkixcvKiQkRKdOnVKmTJkUGhpK+PBQ0dHRevXVV/X333+rVq1akm4MSnz//fc9tpfAW3+XSzfOPWkAfY4cOXTs2DEVLlxYefLk0Z49e2yuLjmv7/n47bff1LhxY504cUKFCxeW9L9r/19//bXXDFw6cuSIJD3wixEh9WrUqKFChQpp4sSJCg4O1rZt25QxY0Y999xzeu211+46M6Qn8NaenwkTJuidd97RsWPHJEl58+bVwIEDPWJF21t5++/yqlWrqnv37mrSpIlat26tM2fOqF+/fvrvf/+rTZs26ddff7W7RFc2zjHyQKhQoYJp1KiROX36tLPt9OnTpnHjxqZixYo2VuZ+165dM/369TNBQUHGx8fH+Pj4mKCgINO3b19z9epVu8tzq6VLl5qGDRuafPnymXz58pmGDRuaJUuW2F2WWwQHB5vdu3c7/71z505jjDHr1683hQsXtrM0S2zevNmEhYWZoKAg4+vra3LmzGkcDofJnDmziYyMtLs8t7h27Zr59NNPzYkTJ4wxxvz111/m/PnzNlflXt78u9wYYxYtWmTmzZtnjDHm999/N4ULFzYOh8PkyJHDLF261ObqkvP68BEQEGB+/fXXZO07duwwAQEBNlRknU6dOpnQ0FAzceJEs23bNrNt2zYzceJEExYWZjp16mR3eW4zfvx4kyFDBtOyZUszZswYM2bMGNOqVSuTMWNGM27cOLvLS3M5cuQwv//+uzHGmIIFC5pFixYZY4zZtWuXyZQpk52lWaJ69ermpZdeMgkJCSZLlixm//795vDhw6ZatWrOX9aeKDAw0Bw6dMjuMizjzb/Lbyc2NtYkJibaXUaKPP9C2F0UKlRIJ0+eTLbQzl9//aUCBQrYVJU1pk+frpkzZ6p+/frOtpIlSyoiIkKtWrXShAkTbKzOfYYOHaoPPvjAZSBet27dVLlyZQ0dOlRdunSxsbq0V6ZMGW3YsEEFCxZU9erV1b9/f+fy257eFS1JW7du1aRJk+Tj4yNfX1/Fx8crX758GjFihNq1a+exl53Kly+vLVu2KE+ePHaXYglv/V3+wgsv3NN+U6ZMcXMlqeOV4ePmOR6GDRumbt26aeDAgapQoYIkaf369Ro8eLDeffddu0q0hL+/f4oTL0VGRsrPz8/6gixy9uxZ1atXL1l73bp11atXLxsqcq+hQ4fq/PnzkqR33nlHbdu2VefOnVWwYMEH7heSO2TMmNG5iFxoaKgOHz6sIkWKKDg42DnWyRO98sor6t69u44ePZri/CYlS5a0qTL3uNvv8pt/7wcFBdlVZpqLiYlRnjx5VKZMGefcHumBVw449fHxcZk63dwyGcvNX3vqHACSNHjwYO3evVtTp06Vv7+/JCk+Pl4dO3ZUwYIFPXb119atW6tMmTLq2bOnS/vIkSO1ceNGl6nmkf7VrVtX7du3V+vWrfXSSy9p+/bt6tatm6ZNm6YzZ87o559/trtEt0gKXDdLmnzKE3+33Xy+Kf0uT/ra0869S5cumjFjhvLkyaMOHTroueeeU0hIiN1l3ZVXho/UzFz6oMyDn1Zu7WJeunSp/P39VapUKUnStm3bdPXqVdWuXVvz58+3o0S3+PDDD53/jouL08iRI1W5cmXnFPrr16/XmjVr1L17d/Xr18+uMuEGSfO51KxZU3/99Zfatm2rtWvXOnt+kt77nuaPP/6443ZPuxxzp9/r27dvd+np8bTf6/Hx8Zo/f76mTJmitWvXqmHDhurYsaPq1q37wK5R5pXhw5t16NDhnvedOnWqGyuxVmRk5D3t53A4dODAATdXY63IyMg7/gLytPMFJOn8+fOaMWOGPvnkE23atMmjejvu5I8//lBMTIw+++wzXb9+Xb/99tsDOXeTV475uNXZs2c1efJk58Q0xYoV0wsvvJDi1MTpnScFitQ4ePCg3SXY5vXXX3f5+tq1a9qyZYsWLVqU7NITPE96WWgsraxcuVKTJ0/WvHnzFB4ermbNmmn8+PF2l2WZpGEFxpgHOnB5fc/Hxo0bFRUVpcDAQJUvX17SjVVPL1++7FznBfBE48eP18aNGz0+kHprz096W2jsnzhx4oRiYmI0efJkxcXF6dlnn9XEiRO1bds2FS1a1O7y3O7myy6rV6/Wk08+qQ4dOqhevXopjv15EHh9+KhataoKFCigjz/+2DkF7/Xr1/Xiiy/qwIEDWrlypc0Vuk9sbKz69++vH3/8UX/99Vey1U89dRVIY4zmzp172/P2pLEud3LgwAGVLl06xRV+PcmYMWNcvr6156d37942VeZejRo1kq+vrz755JMUFxqrWrWq3SWmiUaNGmnlypVq2LCh2rRpo3r16snX11cZM2b0ivDxyiuvaObMmYqIiNALL7ygNm3aKEeOHHaXdVdeHz4CAwO1ZcsWPfbYYy7tO3fuVLly5ZwLrnmiBg0aaN++ferYsaNy5cqV7NNhu3btbKrMvV577TVNmjRJNWvWTPG8Pb0nIMmIESP00Ucf6dChQ3aXYgtP7/lJbwuN3a8MGTKoW7duztvHk3hL+PDx8dGjjz6qMmXK3LGH70H7UOX1Yz6CgoJ0+PDhZOHjyJEjzkV6PNWqVau0evVqjx3tfzvTpk3T/Pnz1aBBA7tLscStv5SMMTpx4oT+/vtvffTRRzZWZq/69eurT58+Hhs+0ttCY/dr9erVmjx5ssqWLasiRYro+eefV8uWLe0uyzJt27Z9YO9ouROvDx8tWrRQx44dNXLkSFWqVEmStGbNGvXs2VOtWrWyuTr3euyxx3T58mW7y7BccHCw8uXLZ3cZlmnSpInL1z4+PsqZM6dq1KiRLHR7k7lz56aL+RDuV/HixbVt2zZFRkbqiSee0IgRI+Tn56f//ve/HvX+r1ChgipUqKDRo0dr1qxZmjJliqKjo5WYmKglS5YoIiLCoz9IxsTE2F3CffH6yy5Xr15Vz549NXHiRF2/fl3Sje66zp07a/jw4c7JtzzRhg0b1Lt3b/Xv31/FixdXxowZXbZ70iyAN/v000+1aNEiTZkyRYGBgXaXAze7W8/Pyy+/bGN17rN48WJdvHhRzZo10969e9WoUSP9/vvvyp49u2bOnKnatWvbXaLb7NmzR5MnT9a0adN09uxZ/fvf/9ZXX31ld1m4ideHjySXLl3S/v37JUn58+dXpkyZbK7I/fbu3avWrVtr8+bNLu2eOAvgzS5fvqymTZtqzZo1yps3b7LQdev3wxMkJiZq3759KQ6wrVatmk1VWWPQoEEuX3tzz8/p06f10EMPpctu+vuRkJCgr7/+WlOmTCF8PGC8/rLLCy+8oDFjxihr1qwqUaKEs/3ixYvq2rWrR6990aZNG2XMmFHTp09PceClp2rXrp02bdqk5557zivOe/369WrdurX++OOPZGs/eHLIlG7cuRYZGamoqCjlypXL7nIskV4XGnMHX19fNWnSJNmlR9jP63s+fH19dfz4cYWGhrq0nzp1SmFhYc5LMZ4oU6ZM2rJliwoXLmx3KZbKnDmzFi9erCpVqthdiiVKly6tQoUKadCgQcqdO3eysOWJk+ndLFOmTNq1a5fHTSd+Oz4+Pve00NiCBQssrApw5bU9H3FxcTLGyBij8+fPKyAgwLktISFB3333XbJA4mnKlSunI0eOeF34iIiI8NjxLCnZu3ev5s6d69HLit+Jty0t37lzZ82YMUMHDx5MVwuNwbt4bc/HrSvb3srhcGjQoEHq27evhVVZa86cORo4cKB69uypEiVKJBv74GlLbif59ttvNXbsWE2cOFF58+a1uxy3q1Wrlt58803Vq1fP7lJsMXv2bPXp00dvvPGGVywtL6XPhcbgXbw2fKxYsULGGNWqVUvz5s1z+WTg5+enPHnyKDw83MYK3c/bltxO8tBDD+nSpUu6fv26MmXKlCx0edrMrgsWLFC/fv28LmQm8db3eZL0stAYvIvXXnZJWlL54MGDevTRR73y04C3LrY2evRou0uwVPPmzSW5DkT0pj++3vo+T5JeFhqDd/Hano8kU6dOVZYsWfTMM8+4tM+ZM0eXLl3y2CnG4T3++OOPO273lrEQ3iQ9LjQG7+L14aNQoULOdT5utmLFCr388sseNQ1xSqZNm6aJEyfq4MGDWrdunfLkyaPRo0crMjJSTz31lN3luc3+/fs1depU7d+/X2PGjFFoaKi+//57PfrooypWrJjd5SGN7dmzR2PHjtWuXbskSUWKFFHXrl09crB1el1oDN7F68NHQECAdu/enWzg4aFDh1SkSBGPnn58woQJ6t+/v15//XW98847+vXXX5UvXz7FxMTo008/1Y8//mh3iW6xYsUK1a9fX5UrV9bKlSu1a9cu5cuXT8OHD9fGjRs1d+5cu0t0i507d+rw4cO6evWqS3vjxo1tqsga8+bNU8uWLVWuXDlVrFhR0o25TzZs2KCZM2c6L0t5ivS60Bi8i9eO+UgSGhqq7du3Jwsf27ZtU/bs2e0pyiJjx47Vxx9/rCZNmmj48OHO9nLlyqlHjx42VuZevXv31pAhQxQdHe2y5kOtWrU0btw4GytzjwMHDqhp06basWOH89q/JOcfJk8fB/Dmm2+qT58+Gjx4sEv7gAED9Oabb3pc+EivC43Bu3h9+GjVqpW6deumrFmzOqeZXrFihV577TWPXxnx4MGDKlOmTLJ2f39/Xbx40YaKrLFjxw5Nnz49WXtoaKhOnTplQ0Xu9dprrykyMlLLli1TZGSkfvnlF8XGxqp79+4aOXKk3eW53fHjx9W2bdtk7c8995zee+89Gypyr/S60Bi8i9ePPHr77bf1xBNPqHbt2goMDFRgYKD+/e9/q1atWho6dKjd5blVZGSktm7dmqx90aJFKlKkiPUFWSRbtmw6fvx4svYtW7bo4YcftqEi91q3bp0GDx6sHDlyyMfHRz4+PqpSpYqGDRumbt262V2e29WoUUOrVq1K1r569WpVrVrVhooAeH3Ph5+fn2bNmqUePXro0KFDCgwMVIkSJbziDoDo6Gh16dJFV65ckTFGv/zyi2bMmKFhw4bpk08+sbs8t2nZsqV69eqlOXPmyOFwKDExUWvWrFGPHj1S/ISc3iUkJDgvL+XIkUPHjh1T4cKFlSdPHo8dUH3zImKNGzdWr169tGnTJlWoUEHSjTEfc+bMSbboHACLGC925swZ88orr5js2bMbHx8f4+PjY7Jnz266dOlizpw5Y3d5lvj8889NgQIFjMPhMA6Hwzz88MPmk08+sbsst4qPjzcvvviiyZAhg3E4HCZjxozGx8fHPPfcc+b69et2l5fmqlSpYhYsWGCMMaZVq1amXr16ZvXq1aZt27amWLFi9hbnJknv57s9fHx87C4V8Epee7fL6dOnVbFiRf35559q06aN8zLDzp07NX36dEVERGjt2rV66KGHbK7UGpcuXdKFCxc8fj2bmx05ckQ7duzQhQsXVKZMGRUsWNDuktxi8eLFunjxopo1a6a9e/eqUaNG+v3335U9e3bNnDlTtWvXtrtEAF7Ga8PH66+/rmXLlmnp0qXJlto+ceKE6tatq9q1a+uDDz6wqUL3GzJkiNq0aaPIyEi7S4HFTp8+rYceesjr7oq4cuWKyyKSAOzhteEjb968mjRpkqKiolLcvmjRInXq1EmHDh2ytjALlSpVSr/++queeOIJPffcc3r22We9YjKi5s2bq3z58urVq5dL+4gRI7RhwwbNmTPHpsrSVrNmze66T4YMGRQWFqZ///vfatSokQVVWS8hIUFDhw7VxIkTdfLkSf3+++/Kly+f3nrrLeXNm1cdO3a0u0TA63jt3S7Hjx+/40yWxYsX14kTJyysyHrbtm3T9u3bVaNGDY0cOVLh4eFq2LChpk+frkuXLtldntusXLlSDRo0SNZev359rVy50oaK3CM4OPiuj8DAQO3du1ctWrRQ//797S7ZLd555x3FxMRoxIgR8vPzc7YXL17cowdWAw8yr+35ePjhhzVr1ixVqVIlxe2rVq1SixYtdOzYMYsrs8+aNWs0ffp0zZkzR1euXFFcXJzdJblFYGCgtm7dmmxq7d27d6tMmTIePavt7XzzzTd65ZVXdPjwYbtLSXMFChTQpEmTVLt2bWXNmlXbtm1Tvnz5tHv3blWsWFFnzpyxu0TA63htz0dUVJT69u2bbKpp6caiTG+99Zbq1atnQ2X2yZw5swIDA+Xn56dr167ZXY7blChRQrNmzUrWPnPmTBUtWtSGiuxXpUoVlStXzu4y3OLPP/9UgQIFkrUnJiZ69PsceJB57TwfgwcPVrly5VSwYEF16dJFjz32mIwx2rVrlz766CPFx8dr2rRpdpfpdgcPHtT06dM1ffp07dmzR9WrV9egQYP09NNP212a27z11ltq1qyZ9u/fr1q1akmSli1bphkzZnjMeI/UypYtm8eu9VG0aFGtWrUq2dw9c+fOTXGGXwAWsO0m3wfAgQMHTL169YyPj4/Lff9RUVFm7969dpfndk888YTx8fExpUuXNu+99545evSo3SVZ5ptvvjGVKlUymTJlMtmzZzc1a9Y0P/30k91lwQ0WLlxogoODzfDhw02mTJnMe++9Z1588UXj5+dnfvjhB7vLA7yS1475uNmZM2e0d+9eSTeuD4eEhNhckTX69u2rNm3aeO2lBni2AwcOKDIyUg6HQ6tWrdLgwYO1bds2XbhwQY8//rj69++vunXr2l0m4JUIH5CkZCuderqzZ89q7ty5OnDggHr06KGQkBBt3rxZuXLl8sj1XbyRr6+vjh8/7pw4r0WLFvrwww+TzesDwHpeO+AUN3z22WcqUaKEc1G9kiVLevxYl+3bt6tQoUJ699139d577+ns2bOSpPnz56tPnz72Foc0c+vnqu+//96jV2sG0hPChxcbNWqUOnfurAYNGmj27NmaPXu26tWrp06dOnn0zK7R0dFq37699u7d6zLbZYMGDTxqng+4opMXeHB47d0ukMaOHasJEya4rOTauHFjFStWTAMHDtQbb7xhY3Xus2HDBk2aNClZ+8MPP+zxE8t5E4fDkewyordcVgQedIQPL3b8+HFVqlQpWXulSpV0/PhxGyqyhr+/f4oTqP3+++/KmTOnDRXBHYwxat++vfz9/SXdWNelU6dOypw5s8t+nnqLMfAg47KLFytQoIBmz56drH3WrFkeu8KrdKN3Z/Dgwc4JphwOhw4fPqxevXqpefPmNleHtNKuXTuFhoY6p5J/7rnnFB4enmyKeQDW424XLzZv3jy1aNFCderUUeXKlSXdmGJ92bJlmj17tpo2bWpzhe5x7tw5Pf3009qwYYMuXLig8PBwnThxQhUrVtR3332X7JMxACBtET683KZNmzRq1Cjt3r1bklSkSBF1797dK2Z+XLNmjcu8D3Xq1LG7JADwCoz58HJly5bVF198YXcZlklMTFRMTIzmz5+vQ4cOyeFwKDIyUmFhYTLGMCARACxAz4cX8vHxuesfWYfDoevXr1tUkTWMMWrUqJG+++47lSpVymU9nx07dqhx48ZauHCh3WUCgMej58MLLViw4Lbb1q1bpw8//FCJiYkWVmSNmJgYrVy5UsuWLVPNmjVdti1fvlxNmjTRZ5995nLrMQAg7dHzAUnSnj171Lt3b3399ddq06aNBg8enGwV0PSubt26qlWrlnr37p3i9qFDh2rFihVavHixxZUBgHfhVlsvd+zYMb300ksqUaKErl+/rq1bt+rTTz/1uOAh3ZhWvV69erfdXr9+fW3bts3CigDAOxE+vNS5c+fUq1cvFShQQL/99puWLVumr7/+WsWLF7e7NLc5ffr0HRcVy5Url86cOWNhRQDgnRjz4YVGjBihd999V2FhYZoxY4aeeuopu0uyREJCgjJkuP1b3tfX1+MG2QLAg4gxH17Ix8dHgYGBqlOnjnx9fW+7n6dNO+3j46P69es7p9u+VXx8vBYtWqSEhASLKwMA70LPhxdq27atV85n0a5du7vuw50uAOB+9HwAAABLMeAUAABYivABAAAsRfgAAACWInwAAABLET4AAIClCB8AAMBShA8AAGCp/wcQNEt/w4v40gAAAABJRU5ErkJggg==",
      "text/plain": [
       "<Figure size 640x480 with 1 Axes>"
      ]
     },
     "metadata": {},
     "output_type": "display_data"
    }
   ],
   "source": [
    "season2017 = snow.loc['2016-10':'2017-05']\n",
    "_ = (season2017\n",
    "     .resample('ME')\n",
    "     .sum()\n",
    "     .div(season2017.sum())\n",
    "     .mul(100)\n",
    "     .rename(lambda idx: idx.month_name())\n",
    "     .plot.bar(title='Monthly snowfall in 2017 season')\n",
    ")"
   ]
  },
  {
   "cell_type": "code",
   "execution_count": 26,
   "id": "779a0f3d-4b1a-44b7-a87d-ab9826ed030b",
   "metadata": {
    "tags": []
   },
   "outputs": [],
   "source": [
    "url = 'https://github.com/mattharrison/datasets/raw/master/data/vehicles.csv.zip'\n",
    "vehicles_df = pd.read_csv(url, low_memory=False)\n",
    "make = vehicles_df.make"
   ]
  },
  {
   "cell_type": "code",
   "execution_count": 27,
   "id": "984a8eb0-0cd9-42d5-a5fc-a943bcc8e9a4",
   "metadata": {
    "tags": []
   },
   "outputs": [
    {
     "data": {
      "text/plain": [
       "0        Alfa Romeo\n",
       "1           Ferrari\n",
       "2             Dodge\n",
       "3             Dodge\n",
       "4            Subaru\n",
       "            ...    \n",
       "41139        Subaru\n",
       "41140        Subaru\n",
       "41141        Subaru\n",
       "41142        Subaru\n",
       "41143        Subaru\n",
       "Name: make, Length: 41144, dtype: object"
      ]
     },
     "execution_count": 27,
     "metadata": {},
     "output_type": "execute_result"
    }
   ],
   "source": [
    "make"
   ]
  },
  {
   "cell_type": "code",
   "execution_count": 28,
   "id": "b0df95f5-1daf-456e-ba61-a60648b33acb",
   "metadata": {
    "tags": []
   },
   "outputs": [
    {
     "data": {
      "image/png": "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",
      "text/plain": [
       "<Figure size 640x480 with 1 Axes>"
      ]
     },
     "metadata": {},
     "output_type": "display_data"
    }
   ],
   "source": [
    "top10 = make.value_counts().index[:10]\n",
    "_ = (make\n",
    "     .where(make.isin(top10), 'Other')\n",
    "     .value_counts()\n",
    "     .plot.barh()\n",
    ")"
   ]
  },
  {
   "cell_type": "code",
   "execution_count": 29,
   "id": "29b4056e-3f93-4a28-b5d1-a43c64d638f0",
   "metadata": {
    "tags": []
   },
   "outputs": [
    {
     "data": {
      "text/plain": [
       "Index(['Chevrolet', 'Ford', 'Dodge', 'GMC', 'Toyota', 'BMW', 'Mercedes-Benz',\n",
       "       'Nissan', 'Volkswagen', 'Mitsubishi'],\n",
       "      dtype='object', name='make')"
      ]
     },
     "execution_count": 29,
     "metadata": {},
     "output_type": "execute_result"
    }
   ],
   "source": [
    "top10"
   ]
  },
  {
   "cell_type": "markdown",
   "id": "00df9071-50d6-40db-a0f6-2be045a39794",
   "metadata": {},
   "source": [
    "## 2. DataFrames"
   ]
  },
  {
   "cell_type": "markdown",
   "id": "7770306c-eba4-4cad-ab38-28a8b4d159d7",
   "metadata": {
    "tags": []
   },
   "source": [
    "### 2.1 Basic `dataframe` manipulation"
   ]
  },
  {
   "cell_type": "markdown",
   "id": "013e1f23-6e0d-40c5-b8af-66805c80e9eb",
   "metadata": {},
   "source": [
    "A `DataFrame` is used to model 2-D data.  It is best understood as column-oriented where each column is a `Series`.  Rows are accessed via the index. This toy Python example illustrates the basic data structure and relationship between `index` and `cols`:"
   ]
  },
  {
   "cell_type": "code",
   "execution_count": 30,
   "id": "f3eb9b5a-5b75-4b68-8fcc-8e0c657bd146",
   "metadata": {
    "tags": []
   },
   "outputs": [],
   "source": [
    "df = {'index':[0,1,2,3], \n",
    "      'cols': [{'name': 'Name', 'data': ['paul','john','george','ringo']},\n",
    "               {'name': 'Songs', 'data': [145,142,38,13]},]\n",
    "     }\n",
    "\n",
    "def get_row(df, idx):\n",
    "    results = []\n",
    "    value_idx = df['index'].index(idx)\n",
    "    for col in df['cols']:\n",
    "        results.append(col['data'][value_idx])\n",
    "    return results\n",
    "\n",
    "def get_col(df, name):\n",
    "    for col in df['cols']:\n",
    "        if col.get('name') == name:\n",
    "            return col['data']"
   ]
  },
  {
   "cell_type": "code",
   "execution_count": 31,
   "id": "8d42b0d9-ed45-4df1-bb34-c99dc332e809",
   "metadata": {
    "tags": []
   },
   "outputs": [
    {
     "data": {
      "text/plain": [
       "['paul', 145]"
      ]
     },
     "execution_count": 31,
     "metadata": {},
     "output_type": "execute_result"
    }
   ],
   "source": [
    "get_row(df, 0)"
   ]
  },
  {
   "cell_type": "code",
   "execution_count": 32,
   "id": "a002e918-e2fc-401d-a7ab-3b4e7e6b7922",
   "metadata": {
    "tags": []
   },
   "outputs": [
    {
     "data": {
      "text/plain": [
       "['paul', 'john', 'george', 'ringo']"
      ]
     },
     "execution_count": 32,
     "metadata": {},
     "output_type": "execute_result"
    }
   ],
   "source": [
    "get_col(df, 'Name')"
   ]
  },
  {
   "cell_type": "markdown",
   "id": "fd36cc84-e5f8-441d-a4af-b1da26ffe824",
   "metadata": {
    "tags": []
   },
   "source": [
    "Now this would be done in a `pandas` `df` as follows:"
   ]
  },
  {
   "cell_type": "code",
   "execution_count": 33,
   "id": "ebd97647-488a-4bf5-bfa4-07f237bcd077",
   "metadata": {
    "tags": []
   },
   "outputs": [],
   "source": [
    "df = pd.DataFrame({'Name': ['paul','john','george','ringo'], 'Songs': [145,142,38,13]})"
   ]
  },
  {
   "cell_type": "markdown",
   "id": "6b58dedf-af02-464a-bee0-148d7f62dffc",
   "metadata": {},
   "source": [
    "`iloc` is used to locate a row:"
   ]
  },
  {
   "cell_type": "code",
   "execution_count": 34,
   "id": "8c6ee376-df1a-46f1-b933-070b1de4fa7e",
   "metadata": {
    "tags": []
   },
   "outputs": [
    {
     "data": {
      "text/plain": [
       "Name     paul\n",
       "Songs     145\n",
       "Name: 0, dtype: object"
      ]
     },
     "execution_count": 34,
     "metadata": {},
     "output_type": "execute_result"
    }
   ],
   "source": [
    "df.iloc[0]"
   ]
  },
  {
   "cell_type": "markdown",
   "id": "e0f1948e-f937-4849-85ea-092e8c55d95b",
   "metadata": {},
   "source": [
    "Columns can be retrieved by name:"
   ]
  },
  {
   "cell_type": "code",
   "execution_count": 35,
   "id": "5e3052fd-c004-45aa-bc05-253165e63634",
   "metadata": {
    "tags": []
   },
   "outputs": [
    {
     "data": {
      "text/plain": [
       "0      paul\n",
       "1      john\n",
       "2    george\n",
       "3     ringo\n",
       "Name: Name, dtype: object"
      ]
     },
     "execution_count": 35,
     "metadata": {},
     "output_type": "execute_result"
    }
   ],
   "source": [
    "df['Name']"
   ]
  },
  {
   "cell_type": "markdown",
   "id": "e76d73cd-0cd3-49fc-9200-94e1ef9243f3",
   "metadata": {},
   "source": [
    "Or equivalently:"
   ]
  },
  {
   "cell_type": "code",
   "execution_count": 36,
   "id": "6542f93d-4f48-479e-ad4c-6df2f689954a",
   "metadata": {
    "tags": []
   },
   "outputs": [
    {
     "data": {
      "text/plain": [
       "0      paul\n",
       "1      john\n",
       "2    george\n",
       "3     ringo\n",
       "Name: Name, dtype: object"
      ]
     },
     "execution_count": 36,
     "metadata": {},
     "output_type": "execute_result"
    }
   ],
   "source": [
    "df.loc[:,'Name']"
   ]
  },
  {
   "cell_type": "markdown",
   "id": "d336f90e-0ec8-4124-8a62-fc692aa642ba",
   "metadata": {},
   "source": [
    "Determine basic memory usage:"
   ]
  },
  {
   "cell_type": "code",
   "execution_count": 37,
   "id": "2fb0500c-60b7-4acf-ba64-a2424195f8b9",
   "metadata": {
    "tags": []
   },
   "outputs": [
    {
     "data": {
      "text/plain": [
<<<<<<< HEAD
       "Index    128\n",
=======
       "Index    132\n",
>>>>>>> 2746b21 (Updated pandas notebooks)
       "Name      32\n",
       "Songs     32\n",
       "dtype: int64"
      ]
     },
     "execution_count": 37,
     "metadata": {},
     "output_type": "execute_result"
    }
   ],
   "source": [
    "df.memory_usage()"
   ]
  },
  {
   "cell_type": "markdown",
   "id": "c9ee382a-cd31-4b4c-a170-f28f91f385cd",
   "metadata": {},
   "source": [
    "### 2.2 Creating and updating columns"
   ]
  },
  {
   "cell_type": "markdown",
   "id": "15b7a1b4-5b8f-4ae0-b4b4-0a2ce72f2601",
   "metadata": {
    "tags": []
   },
   "source": [
    "Harrison uses a `tweak` ELT type pattern which he calls the one true way to create and update columns for `pandas`.  He extracts data and loads the dataframe then does all his transformations in one single tweak function."
   ]
  },
  {
   "cell_type": "code",
   "execution_count": 38,
   "id": "44235947-53ae-4025-90ff-0df6779376f1",
   "metadata": {
    "tags": []
   },
   "outputs": [
    {
     "data": {
      "text/html": [
       "<div>\n",
       "<style scoped>\n",
       "    .dataframe tbody tr th:only-of-type {\n",
       "        vertical-align: middle;\n",
       "    }\n",
       "\n",
       "    .dataframe tbody tr th {\n",
       "        vertical-align: top;\n",
       "    }\n",
       "\n",
       "    .dataframe thead th {\n",
       "        text-align: right;\n",
       "    }\n",
       "</style>\n",
       "<table border=\"1\" class=\"dataframe\">\n",
       "  <thead>\n",
       "    <tr style=\"text-align: right;\">\n",
       "      <th></th>\n",
       "      <th>is.python.main</th>\n",
       "      <th>other.lang.None</th>\n",
       "      <th>other.lang.Java</th>\n",
       "      <th>other.lang.JavaScript</th>\n",
       "      <th>other.lang.C/C++</th>\n",
       "      <th>other.lang.PHP</th>\n",
       "      <th>other.lang.C#</th>\n",
       "      <th>other.lang.Ruby</th>\n",
       "      <th>other.lang.Bash / Shell</th>\n",
       "      <th>other.lang.Objective-C</th>\n",
       "      <th>...</th>\n",
       "      <th>job.role.Technical support</th>\n",
       "      <th>job.role.Data analyst</th>\n",
       "      <th>job.role.Business analyst</th>\n",
       "      <th>job.role.Team lead</th>\n",
       "      <th>job.role.Product manager</th>\n",
       "      <th>job.role.CIO / CEO / CTO</th>\n",
       "      <th>job.role.Systems analyst</th>\n",
       "      <th>job.role.Other</th>\n",
       "      <th>age</th>\n",
       "      <th>country.live</th>\n",
       "    </tr>\n",
       "  </thead>\n",
       "  <tbody>\n",
       "    <tr>\n",
       "      <th>0</th>\n",
       "      <td>Yes</td>\n",
       "      <td>NaN</td>\n",
       "      <td>NaN</td>\n",
       "      <td>NaN</td>\n",
       "      <td>NaN</td>\n",
       "      <td>NaN</td>\n",
       "      <td>NaN</td>\n",
       "      <td>NaN</td>\n",
       "      <td>Bash / Shell</td>\n",
       "      <td>NaN</td>\n",
       "      <td>...</td>\n",
       "      <td>NaN</td>\n",
       "      <td>NaN</td>\n",
       "      <td>Business analyst</td>\n",
       "      <td>NaN</td>\n",
       "      <td>NaN</td>\n",
       "      <td>NaN</td>\n",
       "      <td>NaN</td>\n",
       "      <td>NaN</td>\n",
       "      <td>30–39</td>\n",
       "      <td>NaN</td>\n",
       "    </tr>\n",
       "    <tr>\n",
       "      <th>1</th>\n",
       "      <td>Yes</td>\n",
       "      <td>NaN</td>\n",
       "      <td>Java</td>\n",
       "      <td>JavaScript</td>\n",
       "      <td>NaN</td>\n",
       "      <td>NaN</td>\n",
       "      <td>C#</td>\n",
       "      <td>NaN</td>\n",
       "      <td>NaN</td>\n",
       "      <td>NaN</td>\n",
       "      <td>...</td>\n",
       "      <td>NaN</td>\n",
       "      <td>NaN</td>\n",
       "      <td>NaN</td>\n",
       "      <td>NaN</td>\n",
       "      <td>NaN</td>\n",
       "      <td>NaN</td>\n",
       "      <td>NaN</td>\n",
       "      <td>NaN</td>\n",
       "      <td>21–29</td>\n",
       "      <td>India</td>\n",
       "    </tr>\n",
       "    <tr>\n",
       "      <th>2</th>\n",
       "      <td>Yes</td>\n",
       "      <td>NaN</td>\n",
       "      <td>NaN</td>\n",
       "      <td>NaN</td>\n",
       "      <td>C/C++</td>\n",
       "      <td>NaN</td>\n",
       "      <td>NaN</td>\n",
       "      <td>NaN</td>\n",
       "      <td>Bash / Shell</td>\n",
       "      <td>NaN</td>\n",
       "      <td>...</td>\n",
       "      <td>Technical support</td>\n",
       "      <td>Data analyst</td>\n",
       "      <td>NaN</td>\n",
       "      <td>Team lead</td>\n",
       "      <td>NaN</td>\n",
       "      <td>NaN</td>\n",
       "      <td>NaN</td>\n",
       "      <td>NaN</td>\n",
       "      <td>30–39</td>\n",
       "      <td>United States</td>\n",
       "    </tr>\n",
       "    <tr>\n",
       "      <th>3</th>\n",
       "      <td>Yes</td>\n",
       "      <td>NaN</td>\n",
       "      <td>NaN</td>\n",
       "      <td>JavaScript</td>\n",
       "      <td>NaN</td>\n",
       "      <td>NaN</td>\n",
       "      <td>NaN</td>\n",
       "      <td>NaN</td>\n",
       "      <td>Bash / Shell</td>\n",
       "      <td>NaN</td>\n",
       "      <td>...</td>\n",
       "      <td>NaN</td>\n",
       "      <td>NaN</td>\n",
       "      <td>NaN</td>\n",
       "      <td>NaN</td>\n",
       "      <td>NaN</td>\n",
       "      <td>NaN</td>\n",
       "      <td>NaN</td>\n",
       "      <td>NaN</td>\n",
       "      <td>NaN</td>\n",
       "      <td>NaN</td>\n",
       "    </tr>\n",
       "    <tr>\n",
       "      <th>4</th>\n",
       "      <td>Yes</td>\n",
       "      <td>NaN</td>\n",
       "      <td>Java</td>\n",
       "      <td>JavaScript</td>\n",
       "      <td>C/C++</td>\n",
       "      <td>NaN</td>\n",
       "      <td>NaN</td>\n",
       "      <td>NaN</td>\n",
       "      <td>Bash / Shell</td>\n",
       "      <td>NaN</td>\n",
       "      <td>...</td>\n",
       "      <td>NaN</td>\n",
       "      <td>NaN</td>\n",
       "      <td>NaN</td>\n",
       "      <td>NaN</td>\n",
       "      <td>NaN</td>\n",
       "      <td>NaN</td>\n",
       "      <td>NaN</td>\n",
       "      <td>NaN</td>\n",
       "      <td>21–29</td>\n",
       "      <td>Italy</td>\n",
       "    </tr>\n",
       "  </tbody>\n",
       "</table>\n",
       "<p>5 rows × 264 columns</p>\n",
       "</div>"
      ],
      "text/plain": [
       "  is.python.main  other.lang.None other.lang.Java other.lang.JavaScript  \\\n",
       "0            Yes              NaN             NaN                   NaN   \n",
       "1            Yes              NaN            Java            JavaScript   \n",
       "2            Yes              NaN             NaN                   NaN   \n",
       "3            Yes              NaN             NaN            JavaScript   \n",
       "4            Yes              NaN            Java            JavaScript   \n",
       "\n",
       "  other.lang.C/C++ other.lang.PHP other.lang.C# other.lang.Ruby  \\\n",
       "0              NaN            NaN           NaN             NaN   \n",
       "1              NaN            NaN            C#             NaN   \n",
       "2            C/C++            NaN           NaN             NaN   \n",
       "3              NaN            NaN           NaN             NaN   \n",
       "4            C/C++            NaN           NaN             NaN   \n",
       "\n",
       "  other.lang.Bash / Shell other.lang.Objective-C  ...  \\\n",
       "0            Bash / Shell                    NaN  ...   \n",
       "1                     NaN                    NaN  ...   \n",
       "2            Bash / Shell                    NaN  ...   \n",
       "3            Bash / Shell                    NaN  ...   \n",
       "4            Bash / Shell                    NaN  ...   \n",
       "\n",
       "  job.role.Technical support job.role.Data analyst job.role.Business analyst  \\\n",
       "0                        NaN                   NaN          Business analyst   \n",
       "1                        NaN                   NaN                       NaN   \n",
       "2          Technical support          Data analyst                       NaN   \n",
       "3                        NaN                   NaN                       NaN   \n",
       "4                        NaN                   NaN                       NaN   \n",
       "\n",
       "  job.role.Team lead job.role.Product manager job.role.CIO / CEO / CTO  \\\n",
       "0                NaN                      NaN                      NaN   \n",
       "1                NaN                      NaN                      NaN   \n",
       "2          Team lead                      NaN                      NaN   \n",
       "3                NaN                      NaN                      NaN   \n",
       "4                NaN                      NaN                      NaN   \n",
       "\n",
       "  job.role.Systems analyst job.role.Other    age   country.live  \n",
       "0                      NaN            NaN  30–39            NaN  \n",
       "1                      NaN            NaN  21–29          India  \n",
       "2                      NaN            NaN  30–39  United States  \n",
       "3                      NaN            NaN    NaN            NaN  \n",
       "4                      NaN            NaN  21–29          Italy  \n",
       "\n",
       "[5 rows x 264 columns]"
      ]
     },
     "execution_count": 38,
     "metadata": {},
     "output_type": "execute_result"
    }
   ],
   "source": [
    "url = 'https://github.com/mattharrison/datasets/raw/master/data/2020-jetbrains-python-survey.csv'\n",
    "jb = pd.read_csv(url, low_memory=False)\n",
    "jb.head()"
   ]
  },
  {
   "cell_type": "code",
   "execution_count": 39,
   "id": "90237615-947c-4964-b0c2-baa1864f1587",
   "metadata": {
    "tags": []
   },
   "outputs": [
    {
     "data": {
      "text/plain": [
       "['▁▂▃▃▄▅▆▆▇█']"
      ]
     },
     "execution_count": 39,
     "metadata": {},
     "output_type": "execute_result"
    }
   ],
   "source": [
    "import sparklines\n",
    "sparklines.sparklines(range(10))"
   ]
  }
 ],
 "metadata": {
  "kernelspec": {
   "display_name": "Python 3 (ipykernel)",
   "language": "python",
   "name": "python3"
  },
  "language_info": {
   "codemirror_mode": {
    "name": "ipython",
    "version": 3
   },
   "file_extension": ".py",
   "mimetype": "text/x-python",
   "name": "python",
   "nbconvert_exporter": "python",
   "pygments_lexer": "ipython3",
   "version": "3.12.1"
  }
 },
 "nbformat": 4,
 "nbformat_minor": 5
}
